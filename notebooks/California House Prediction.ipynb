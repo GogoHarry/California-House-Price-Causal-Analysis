{
 "cells": [
  {
   "cell_type": "markdown",
   "id": "ad1bd4ba-c661-4867-9c72-147e0f52d41a",
   "metadata": {},
   "source": [
    "#### <b><div style='padding:8px;background-color:#003f88;color:white;border-radius:2px;font-size:100%;text-align: left'>Californian House Price Analysis</div></b>"
   ]
  },
  {
   "cell_type": "markdown",
   "id": "9b60dbc5-cf59-4940-ba5a-f9260767801f",
   "metadata": {},
   "source": [
    "#### Project Overview\n",
    "The aim of this project is to analyze the features that defines Californian house prices"
   ]
  },
  {
   "cell_type": "markdown",
   "id": "d9fb239f-ed5d-43e7-81a7-17ce068b9a4f",
   "metadata": {},
   "source": [
    "#### Import Required Libraries"
   ]
  },
  {
   "cell_type": "code",
   "execution_count": 11,
   "id": "4ead420c-2673-498f-9052-92f1a64c0ea3",
   "metadata": {},
   "outputs": [],
   "source": [
    "import pandas as pd\n",
    "import numpy as np\n",
    "import matplotlib.pyplot as plt\n",
    "import seaborn as sns\n",
    "import scipy.stats as stats\n",
    "import statsmodels.api as sm\n",
    "from sklearn.linear_model import LinearRegression\n",
    "from sklearn.model_selection import train_test_split\n",
    "\n",
    "import joblib\n",
    "import pickle\n",
    "\n",
    "import warnings\n",
    "warnings.filterwarnings(\"ignore\")"
   ]
  },
  {
   "cell_type": "code",
   "execution_count": 12,
   "id": "0a8e5092-5819-4ad5-a953-7a5074994c7f",
   "metadata": {},
   "outputs": [
    {
     "data": {
      "text/html": [
       "<div>\n",
       "<style scoped>\n",
       "    .dataframe tbody tr th:only-of-type {\n",
       "        vertical-align: middle;\n",
       "    }\n",
       "\n",
       "    .dataframe tbody tr th {\n",
       "        vertical-align: top;\n",
       "    }\n",
       "\n",
       "    .dataframe thead th {\n",
       "        text-align: right;\n",
       "    }\n",
       "</style>\n",
       "<table border=\"1\" class=\"dataframe\">\n",
       "  <thead>\n",
       "    <tr style=\"text-align: right;\">\n",
       "      <th></th>\n",
       "      <th>longitude</th>\n",
       "      <th>latitude</th>\n",
       "      <th>housing_median_age</th>\n",
       "      <th>total_rooms</th>\n",
       "      <th>total_bedrooms</th>\n",
       "      <th>population</th>\n",
       "      <th>households</th>\n",
       "      <th>median_income</th>\n",
       "      <th>median_house_value</th>\n",
       "      <th>ocean_proximity</th>\n",
       "    </tr>\n",
       "  </thead>\n",
       "  <tbody>\n",
       "    <tr>\n",
       "      <th>0</th>\n",
       "      <td>-122.23</td>\n",
       "      <td>37.88</td>\n",
       "      <td>41.0</td>\n",
       "      <td>880.0</td>\n",
       "      <td>129.0</td>\n",
       "      <td>322.0</td>\n",
       "      <td>126.0</td>\n",
       "      <td>8.3252</td>\n",
       "      <td>452600.0</td>\n",
       "      <td>NEAR BAY</td>\n",
       "    </tr>\n",
       "    <tr>\n",
       "      <th>1</th>\n",
       "      <td>-122.22</td>\n",
       "      <td>37.86</td>\n",
       "      <td>21.0</td>\n",
       "      <td>7099.0</td>\n",
       "      <td>1106.0</td>\n",
       "      <td>2401.0</td>\n",
       "      <td>1138.0</td>\n",
       "      <td>8.3014</td>\n",
       "      <td>358500.0</td>\n",
       "      <td>NEAR BAY</td>\n",
       "    </tr>\n",
       "    <tr>\n",
       "      <th>2</th>\n",
       "      <td>-122.24</td>\n",
       "      <td>37.85</td>\n",
       "      <td>52.0</td>\n",
       "      <td>1467.0</td>\n",
       "      <td>190.0</td>\n",
       "      <td>496.0</td>\n",
       "      <td>177.0</td>\n",
       "      <td>7.2574</td>\n",
       "      <td>352100.0</td>\n",
       "      <td>NEAR BAY</td>\n",
       "    </tr>\n",
       "    <tr>\n",
       "      <th>3</th>\n",
       "      <td>-122.25</td>\n",
       "      <td>37.85</td>\n",
       "      <td>52.0</td>\n",
       "      <td>1274.0</td>\n",
       "      <td>235.0</td>\n",
       "      <td>558.0</td>\n",
       "      <td>219.0</td>\n",
       "      <td>5.6431</td>\n",
       "      <td>341300.0</td>\n",
       "      <td>NEAR BAY</td>\n",
       "    </tr>\n",
       "    <tr>\n",
       "      <th>4</th>\n",
       "      <td>-122.25</td>\n",
       "      <td>37.85</td>\n",
       "      <td>52.0</td>\n",
       "      <td>1627.0</td>\n",
       "      <td>280.0</td>\n",
       "      <td>565.0</td>\n",
       "      <td>259.0</td>\n",
       "      <td>3.8462</td>\n",
       "      <td>342200.0</td>\n",
       "      <td>NEAR BAY</td>\n",
       "    </tr>\n",
       "    <tr>\n",
       "      <th>...</th>\n",
       "      <td>...</td>\n",
       "      <td>...</td>\n",
       "      <td>...</td>\n",
       "      <td>...</td>\n",
       "      <td>...</td>\n",
       "      <td>...</td>\n",
       "      <td>...</td>\n",
       "      <td>...</td>\n",
       "      <td>...</td>\n",
       "      <td>...</td>\n",
       "    </tr>\n",
       "    <tr>\n",
       "      <th>20635</th>\n",
       "      <td>-121.09</td>\n",
       "      <td>39.48</td>\n",
       "      <td>25.0</td>\n",
       "      <td>1665.0</td>\n",
       "      <td>374.0</td>\n",
       "      <td>845.0</td>\n",
       "      <td>330.0</td>\n",
       "      <td>1.5603</td>\n",
       "      <td>78100.0</td>\n",
       "      <td>INLAND</td>\n",
       "    </tr>\n",
       "    <tr>\n",
       "      <th>20636</th>\n",
       "      <td>-121.21</td>\n",
       "      <td>39.49</td>\n",
       "      <td>18.0</td>\n",
       "      <td>697.0</td>\n",
       "      <td>150.0</td>\n",
       "      <td>356.0</td>\n",
       "      <td>114.0</td>\n",
       "      <td>2.5568</td>\n",
       "      <td>77100.0</td>\n",
       "      <td>INLAND</td>\n",
       "    </tr>\n",
       "    <tr>\n",
       "      <th>20637</th>\n",
       "      <td>-121.22</td>\n",
       "      <td>39.43</td>\n",
       "      <td>17.0</td>\n",
       "      <td>2254.0</td>\n",
       "      <td>485.0</td>\n",
       "      <td>1007.0</td>\n",
       "      <td>433.0</td>\n",
       "      <td>1.7000</td>\n",
       "      <td>92300.0</td>\n",
       "      <td>INLAND</td>\n",
       "    </tr>\n",
       "    <tr>\n",
       "      <th>20638</th>\n",
       "      <td>-121.32</td>\n",
       "      <td>39.43</td>\n",
       "      <td>18.0</td>\n",
       "      <td>1860.0</td>\n",
       "      <td>409.0</td>\n",
       "      <td>741.0</td>\n",
       "      <td>349.0</td>\n",
       "      <td>1.8672</td>\n",
       "      <td>84700.0</td>\n",
       "      <td>INLAND</td>\n",
       "    </tr>\n",
       "    <tr>\n",
       "      <th>20639</th>\n",
       "      <td>-121.24</td>\n",
       "      <td>39.37</td>\n",
       "      <td>16.0</td>\n",
       "      <td>2785.0</td>\n",
       "      <td>616.0</td>\n",
       "      <td>1387.0</td>\n",
       "      <td>530.0</td>\n",
       "      <td>2.3886</td>\n",
       "      <td>89400.0</td>\n",
       "      <td>INLAND</td>\n",
       "    </tr>\n",
       "  </tbody>\n",
       "</table>\n",
       "<p>20640 rows × 10 columns</p>\n",
       "</div>"
      ],
      "text/plain": [
       "       longitude  latitude  housing_median_age  total_rooms  total_bedrooms  \\\n",
       "0        -122.23     37.88                41.0        880.0           129.0   \n",
       "1        -122.22     37.86                21.0       7099.0          1106.0   \n",
       "2        -122.24     37.85                52.0       1467.0           190.0   \n",
       "3        -122.25     37.85                52.0       1274.0           235.0   \n",
       "4        -122.25     37.85                52.0       1627.0           280.0   \n",
       "...          ...       ...                 ...          ...             ...   \n",
       "20635    -121.09     39.48                25.0       1665.0           374.0   \n",
       "20636    -121.21     39.49                18.0        697.0           150.0   \n",
       "20637    -121.22     39.43                17.0       2254.0           485.0   \n",
       "20638    -121.32     39.43                18.0       1860.0           409.0   \n",
       "20639    -121.24     39.37                16.0       2785.0           616.0   \n",
       "\n",
       "       population  households  median_income  median_house_value  \\\n",
       "0           322.0       126.0         8.3252            452600.0   \n",
       "1          2401.0      1138.0         8.3014            358500.0   \n",
       "2           496.0       177.0         7.2574            352100.0   \n",
       "3           558.0       219.0         5.6431            341300.0   \n",
       "4           565.0       259.0         3.8462            342200.0   \n",
       "...           ...         ...            ...                 ...   \n",
       "20635       845.0       330.0         1.5603             78100.0   \n",
       "20636       356.0       114.0         2.5568             77100.0   \n",
       "20637      1007.0       433.0         1.7000             92300.0   \n",
       "20638       741.0       349.0         1.8672             84700.0   \n",
       "20639      1387.0       530.0         2.3886             89400.0   \n",
       "\n",
       "      ocean_proximity  \n",
       "0            NEAR BAY  \n",
       "1            NEAR BAY  \n",
       "2            NEAR BAY  \n",
       "3            NEAR BAY  \n",
       "4            NEAR BAY  \n",
       "...               ...  \n",
       "20635          INLAND  \n",
       "20636          INLAND  \n",
       "20637          INLAND  \n",
       "20638          INLAND  \n",
       "20639          INLAND  \n",
       "\n",
       "[20640 rows x 10 columns]"
      ]
     },
     "execution_count": 12,
     "metadata": {},
     "output_type": "execute_result"
    }
   ],
   "source": [
    "# Load the Data\n",
    "file_path = r\"C:\\Users\\Harrison\\Downloads\\housing.csv\"\n",
    "\n",
    "data = pd.read_csv(file_path)\n",
    "\n",
    "data"
   ]
  },
  {
   "cell_type": "markdown",
   "id": "d8110e51-26bc-4406-90f0-c3b256af956d",
   "metadata": {},
   "source": [
    "The dataset used in this project was derived from the 1990 U.S. Census. It contains data about various block groups in California. A block group typically has a population of 600 to 3,000 people. The dataset includes the following features:\n",
    "\n",
    "- Latitude: The geographical latitude of the block group. Positive values indicate locations north of the equator.\n",
    "- Longitude: The geographical longitude of the block group. Negative values indicate locations west of the prime meridian\n",
    "- housing_median_age: The median age of the houses within the block group.\n",
    "- total_rooms: The total number of rooms in all houses within the block group.\n",
    "- total_bedrooms: The total number of bedrooms in all houses within the block group.\n",
    "- population: The total population of the block group.\n",
    "- households: The total number of households (i.e., distinct residential units) within the block group.\n",
    "- median_income: The median income for households within the block group, measured in tens of thousands of dollars.\n",
    "- median_house_value: The median house value within the block group, measured in dollars.\n",
    "- ocean_proximity: The proximity of the block group to the ocean. Categories include \"NEAR BAY\", \"NEAR OCEAN\", \"INLAND\", \"ISLAND\", and \"1H OCEAN\" (less than one hour to the ocean)"
   ]
  },
  {
   "cell_type": "markdown",
   "id": "153ac7ec-f753-4fcb-8213-b856d2df22b9",
   "metadata": {},
   "source": [
    "#### Data Investigation & Cleaning"
   ]
  },
  {
   "cell_type": "code",
   "execution_count": 15,
   "id": "2730c77a-a06e-4aec-85e4-e28b1b707c31",
   "metadata": {},
   "outputs": [
    {
     "data": {
      "text/plain": [
       "Index(['longitude', 'latitude', 'housing_median_age', 'total_rooms',\n",
       "       'total_bedrooms', 'population', 'households', 'median_income',\n",
       "       'median_house_value', 'ocean_proximity'],\n",
       "      dtype='object')"
      ]
     },
     "execution_count": 15,
     "metadata": {},
     "output_type": "execute_result"
    }
   ],
   "source": [
    "data.columns"
   ]
  },
  {
   "cell_type": "code",
   "execution_count": 16,
   "id": "3a9072b7-0372-4731-b925-cdc7e6b01cd6",
   "metadata": {},
   "outputs": [
    {
     "data": {
      "text/plain": [
       "(20640, 10)"
      ]
     },
     "execution_count": 16,
     "metadata": {},
     "output_type": "execute_result"
    }
   ],
   "source": [
    "data.shape"
   ]
  },
  {
   "cell_type": "code",
   "execution_count": 17,
   "id": "e008faaf-411c-44f9-87ed-ad1bf20729c1",
   "metadata": {},
   "outputs": [
    {
     "name": "stdout",
     "output_type": "stream",
     "text": [
      "<class 'pandas.core.frame.DataFrame'>\n",
      "RangeIndex: 20640 entries, 0 to 20639\n",
      "Data columns (total 10 columns):\n",
      " #   Column              Non-Null Count  Dtype  \n",
      "---  ------              --------------  -----  \n",
      " 0   longitude           20640 non-null  float64\n",
      " 1   latitude            20640 non-null  float64\n",
      " 2   housing_median_age  20640 non-null  float64\n",
      " 3   total_rooms         20640 non-null  float64\n",
      " 4   total_bedrooms      20433 non-null  float64\n",
      " 5   population          20640 non-null  float64\n",
      " 6   households          20640 non-null  float64\n",
      " 7   median_income       20640 non-null  float64\n",
      " 8   median_house_value  20640 non-null  float64\n",
      " 9   ocean_proximity     20640 non-null  object \n",
      "dtypes: float64(9), object(1)\n",
      "memory usage: 1.6+ MB\n"
     ]
    }
   ],
   "source": [
    "data.info()"
   ]
  },
  {
   "cell_type": "code",
   "execution_count": 18,
   "id": "e2c2a068-ca1f-4239-8b96-f8d90342561e",
   "metadata": {},
   "outputs": [
    {
     "data": {
      "text/plain": [
       "longitude               844\n",
       "latitude                862\n",
       "housing_median_age       52\n",
       "total_rooms            5926\n",
       "total_bedrooms         1923\n",
       "population             3888\n",
       "households             1815\n",
       "median_income         12928\n",
       "median_house_value     3842\n",
       "ocean_proximity           5\n",
       "dtype: int64"
      ]
     },
     "execution_count": 18,
     "metadata": {},
     "output_type": "execute_result"
    }
   ],
   "source": [
    "# Check the number unique values in each features\n",
    "\n",
    "data.nunique()"
   ]
  },
  {
   "cell_type": "code",
   "execution_count": 19,
   "id": "0634ae89-7415-4bf1-9d60-ac101891a64a",
   "metadata": {},
   "outputs": [
    {
     "data": {
      "text/plain": [
       "array(['NEAR BAY', '<1H OCEAN', 'INLAND', 'NEAR OCEAN', 'ISLAND'],\n",
       "      dtype=object)"
      ]
     },
     "execution_count": 19,
     "metadata": {},
     "output_type": "execute_result"
    }
   ],
   "source": [
    "# Check for unique values in ocean_proximity\n",
    "\n",
    "data[\"ocean_proximity\"].unique()"
   ]
  },
  {
   "cell_type": "code",
   "execution_count": 20,
   "id": "35960e61-c2c3-43cd-a398-9a431997d6f8",
   "metadata": {},
   "outputs": [
    {
     "name": "stdout",
     "output_type": "stream",
     "text": [
      "Missing Values in Each Column:\n",
      " longitude               0\n",
      "latitude                0\n",
      "housing_median_age      0\n",
      "total_rooms             0\n",
      "total_bedrooms        207\n",
      "population              0\n",
      "households              0\n",
      "median_income           0\n",
      "median_house_value      0\n",
      "ocean_proximity         0\n",
      "dtype: int64\n",
      "\n",
      "Percentage of Missing Data:\n",
      " longitude             0.000000\n",
      "latitude              0.000000\n",
      "housing_median_age    0.000000\n",
      "total_rooms           0.000000\n",
      "total_bedrooms        1.002907\n",
      "population            0.000000\n",
      "households            0.000000\n",
      "median_income         0.000000\n",
      "median_house_value    0.000000\n",
      "ocean_proximity       0.000000\n",
      "dtype: float64\n"
     ]
    }
   ],
   "source": [
    "# Check for missing values\n",
    "missing_values = data.isnull().sum()\n",
    "\n",
    "# Calculate the percentage of missing data in each column\n",
    "missing_percentage = (missing_values / len(data)) * 100\n",
    "\n",
    "# Display the missing data statistics\n",
    "print(\"Missing Values in Each Column:\\n\", missing_values)\n",
    "print(\"\\nPercentage of Missing Data:\\n\", missing_percentage)"
   ]
  },
  {
   "cell_type": "code",
   "execution_count": 21,
   "id": "1800248a-cb74-4e36-9457-3b20e48ec5e7",
   "metadata": {
    "scrolled": true
   },
   "outputs": [
    {
     "name": "stdout",
     "output_type": "stream",
     "text": [
      "\\Missing values in each column after removal:\n",
      "longitude             0\n",
      "latitude              0\n",
      "housing_median_age    0\n",
      "total_rooms           0\n",
      "total_bedrooms        0\n",
      "population            0\n",
      "households            0\n",
      "median_income         0\n",
      "median_house_value    0\n",
      "ocean_proximity       0\n",
      "dtype: int64\n"
     ]
    }
   ],
   "source": [
    "# Remove rows with missing values\n",
    "data_cleaned = data.dropna()\n",
    "\n",
    "# Verify that missing values have been removed\n",
    "print(\"\\Missing values in each column after removal:\")\n",
    "print(data_cleaned.isnull().sum())"
   ]
  },
  {
   "cell_type": "code",
   "execution_count": 22,
   "id": "afe6ad05-c8a3-4ed3-be67-f469d57d45af",
   "metadata": {},
   "outputs": [
    {
     "data": {
      "text/plain": [
       "(20433, 10)"
      ]
     },
     "execution_count": 22,
     "metadata": {},
     "output_type": "execute_result"
    }
   ],
   "source": [
    "data_cleaned.shape"
   ]
  },
  {
   "cell_type": "markdown",
   "id": "8a4faa83-2ef3-4edc-8608-2d22ed99d1d6",
   "metadata": {},
   "source": [
    "#### Data Exploration and Visualization"
   ]
  },
  {
   "cell_type": "code",
   "execution_count": 24,
   "id": "50d8ff32-7dea-4c5e-b96c-f867da7b8a39",
   "metadata": {
    "scrolled": true
   },
   "outputs": [
    {
     "data": {
      "text/html": [
       "<div>\n",
       "<style scoped>\n",
       "    .dataframe tbody tr th:only-of-type {\n",
       "        vertical-align: middle;\n",
       "    }\n",
       "\n",
       "    .dataframe tbody tr th {\n",
       "        vertical-align: top;\n",
       "    }\n",
       "\n",
       "    .dataframe thead th {\n",
       "        text-align: right;\n",
       "    }\n",
       "</style>\n",
       "<table border=\"1\" class=\"dataframe\">\n",
       "  <thead>\n",
       "    <tr style=\"text-align: right;\">\n",
       "      <th></th>\n",
       "      <th>longitude</th>\n",
       "      <th>latitude</th>\n",
       "      <th>housing_median_age</th>\n",
       "      <th>total_rooms</th>\n",
       "      <th>total_bedrooms</th>\n",
       "      <th>population</th>\n",
       "      <th>households</th>\n",
       "      <th>median_income</th>\n",
       "      <th>median_house_value</th>\n",
       "    </tr>\n",
       "  </thead>\n",
       "  <tbody>\n",
       "    <tr>\n",
       "      <th>count</th>\n",
       "      <td>20640.000000</td>\n",
       "      <td>20640.000000</td>\n",
       "      <td>20640.000000</td>\n",
       "      <td>20640.000000</td>\n",
       "      <td>20433.000000</td>\n",
       "      <td>20640.000000</td>\n",
       "      <td>20640.000000</td>\n",
       "      <td>20640.000000</td>\n",
       "      <td>20640.000000</td>\n",
       "    </tr>\n",
       "    <tr>\n",
       "      <th>mean</th>\n",
       "      <td>-119.569704</td>\n",
       "      <td>35.631861</td>\n",
       "      <td>28.639486</td>\n",
       "      <td>2635.763081</td>\n",
       "      <td>537.870553</td>\n",
       "      <td>1425.476744</td>\n",
       "      <td>499.539680</td>\n",
       "      <td>3.870671</td>\n",
       "      <td>206855.816909</td>\n",
       "    </tr>\n",
       "    <tr>\n",
       "      <th>std</th>\n",
       "      <td>2.003532</td>\n",
       "      <td>2.135952</td>\n",
       "      <td>12.585558</td>\n",
       "      <td>2181.615252</td>\n",
       "      <td>421.385070</td>\n",
       "      <td>1132.462122</td>\n",
       "      <td>382.329753</td>\n",
       "      <td>1.899822</td>\n",
       "      <td>115395.615874</td>\n",
       "    </tr>\n",
       "    <tr>\n",
       "      <th>min</th>\n",
       "      <td>-124.350000</td>\n",
       "      <td>32.540000</td>\n",
       "      <td>1.000000</td>\n",
       "      <td>2.000000</td>\n",
       "      <td>1.000000</td>\n",
       "      <td>3.000000</td>\n",
       "      <td>1.000000</td>\n",
       "      <td>0.499900</td>\n",
       "      <td>14999.000000</td>\n",
       "    </tr>\n",
       "    <tr>\n",
       "      <th>25%</th>\n",
       "      <td>-121.800000</td>\n",
       "      <td>33.930000</td>\n",
       "      <td>18.000000</td>\n",
       "      <td>1447.750000</td>\n",
       "      <td>296.000000</td>\n",
       "      <td>787.000000</td>\n",
       "      <td>280.000000</td>\n",
       "      <td>2.563400</td>\n",
       "      <td>119600.000000</td>\n",
       "    </tr>\n",
       "    <tr>\n",
       "      <th>50%</th>\n",
       "      <td>-118.490000</td>\n",
       "      <td>34.260000</td>\n",
       "      <td>29.000000</td>\n",
       "      <td>2127.000000</td>\n",
       "      <td>435.000000</td>\n",
       "      <td>1166.000000</td>\n",
       "      <td>409.000000</td>\n",
       "      <td>3.534800</td>\n",
       "      <td>179700.000000</td>\n",
       "    </tr>\n",
       "    <tr>\n",
       "      <th>75%</th>\n",
       "      <td>-118.010000</td>\n",
       "      <td>37.710000</td>\n",
       "      <td>37.000000</td>\n",
       "      <td>3148.000000</td>\n",
       "      <td>647.000000</td>\n",
       "      <td>1725.000000</td>\n",
       "      <td>605.000000</td>\n",
       "      <td>4.743250</td>\n",
       "      <td>264725.000000</td>\n",
       "    </tr>\n",
       "    <tr>\n",
       "      <th>max</th>\n",
       "      <td>-114.310000</td>\n",
       "      <td>41.950000</td>\n",
       "      <td>52.000000</td>\n",
       "      <td>39320.000000</td>\n",
       "      <td>6445.000000</td>\n",
       "      <td>35682.000000</td>\n",
       "      <td>6082.000000</td>\n",
       "      <td>15.000100</td>\n",
       "      <td>500001.000000</td>\n",
       "    </tr>\n",
       "  </tbody>\n",
       "</table>\n",
       "</div>"
      ],
      "text/plain": [
       "          longitude      latitude  housing_median_age   total_rooms  \\\n",
       "count  20640.000000  20640.000000        20640.000000  20640.000000   \n",
       "mean    -119.569704     35.631861           28.639486   2635.763081   \n",
       "std        2.003532      2.135952           12.585558   2181.615252   \n",
       "min     -124.350000     32.540000            1.000000      2.000000   \n",
       "25%     -121.800000     33.930000           18.000000   1447.750000   \n",
       "50%     -118.490000     34.260000           29.000000   2127.000000   \n",
       "75%     -118.010000     37.710000           37.000000   3148.000000   \n",
       "max     -114.310000     41.950000           52.000000  39320.000000   \n",
       "\n",
       "       total_bedrooms    population    households  median_income  \\\n",
       "count    20433.000000  20640.000000  20640.000000   20640.000000   \n",
       "mean       537.870553   1425.476744    499.539680       3.870671   \n",
       "std        421.385070   1132.462122    382.329753       1.899822   \n",
       "min          1.000000      3.000000      1.000000       0.499900   \n",
       "25%        296.000000    787.000000    280.000000       2.563400   \n",
       "50%        435.000000   1166.000000    409.000000       3.534800   \n",
       "75%        647.000000   1725.000000    605.000000       4.743250   \n",
       "max       6445.000000  35682.000000   6082.000000      15.000100   \n",
       "\n",
       "       median_house_value  \n",
       "count        20640.000000  \n",
       "mean        206855.816909  \n",
       "std         115395.615874  \n",
       "min          14999.000000  \n",
       "25%         119600.000000  \n",
       "50%         179700.000000  \n",
       "75%         264725.000000  \n",
       "max         500001.000000  "
      ]
     },
     "execution_count": 24,
     "metadata": {},
     "output_type": "execute_result"
    }
   ],
   "source": [
    "data.describe()"
   ]
  },
  {
   "cell_type": "code",
   "execution_count": 25,
   "id": "e951fb3d-9d80-4cb4-b9de-212af5a3da5f",
   "metadata": {},
   "outputs": [
    {
     "data": {
      "text/html": [
       "<div>\n",
       "<style scoped>\n",
       "    .dataframe tbody tr th:only-of-type {\n",
       "        vertical-align: middle;\n",
       "    }\n",
       "\n",
       "    .dataframe tbody tr th {\n",
       "        vertical-align: top;\n",
       "    }\n",
       "\n",
       "    .dataframe thead th {\n",
       "        text-align: right;\n",
       "    }\n",
       "</style>\n",
       "<table border=\"1\" class=\"dataframe\">\n",
       "  <thead>\n",
       "    <tr style=\"text-align: right;\">\n",
       "      <th></th>\n",
       "      <th>ocean_proximity</th>\n",
       "    </tr>\n",
       "  </thead>\n",
       "  <tbody>\n",
       "    <tr>\n",
       "      <th>count</th>\n",
       "      <td>20640</td>\n",
       "    </tr>\n",
       "    <tr>\n",
       "      <th>unique</th>\n",
       "      <td>5</td>\n",
       "    </tr>\n",
       "    <tr>\n",
       "      <th>top</th>\n",
       "      <td>&lt;1H OCEAN</td>\n",
       "    </tr>\n",
       "    <tr>\n",
       "      <th>freq</th>\n",
       "      <td>9136</td>\n",
       "    </tr>\n",
       "  </tbody>\n",
       "</table>\n",
       "</div>"
      ],
      "text/plain": [
       "       ocean_proximity\n",
       "count            20640\n",
       "unique               5\n",
       "top          <1H OCEAN\n",
       "freq              9136"
      ]
     },
     "execution_count": 25,
     "metadata": {},
     "output_type": "execute_result"
    }
   ],
   "source": [
    "data.describe(include=[\"object\", \"bool\"])"
   ]
  },
  {
   "cell_type": "code",
   "execution_count": 26,
   "id": "e83f7a62-321b-4f77-8096-8a37f1f1ba13",
   "metadata": {},
   "outputs": [
    {
     "data": {
      "image/png": "[encoded data removed]",
      "text/plain": [
       "<Figure size 1000x600 with 1 Axes>"
      ]
     },
     "metadata": {},
     "output_type": "display_data"
    }
   ],
   "source": [
    "sns.set(style = \"whitegrid\")\n",
    "plt.figure(figsize = (10, 6))\n",
    "sns.histplot(data_cleaned['median_house_value'], color = 'forestgreen', kde = True)\n",
    "plt.title('Distribution of Median House Values')\n",
    "plt.xlabel('Median House Value')\n",
    "plt.ylabel('Frequency')\n",
    "\n",
    "plt.show()"
   ]
  },
  {
   "cell_type": "markdown",
   "id": "46aea37b-8010-4c88-9fd5-c95f42229840",
   "metadata": {},
   "source": [
    "- ##### Using InterQualtile Range to Remove Outliers"
   ]
  },
  {
   "cell_type": "markdown",
   "id": "671577e5-0ce9-4402-8beb-5792a1c2b403",
   "metadata": {},
   "source": [
    "Indented block"
   ]
  },
  {
   "cell_type": "code",
   "execution_count": 29,
   "id": "db92cd38-e1a0-4101-a25b-f099b65b7c15",
   "metadata": {},
   "outputs": [
    {
     "name": "stdout",
     "output_type": "stream",
     "text": [
      "119500.0\n",
      "264700.0\n",
      "Original data shape: (20433, 10)\n",
      "New data shape without outliers: (19369, 10)\n"
     ]
    }
   ],
   "source": [
    "# Assuming 'data' is your DataFrame and 'median_house_value'is the column of interest\n",
    "Q1 = data_cleaned['median_house_value'].quantile(0.25)\n",
    "print(Q1)\n",
    "Q3 = data_cleaned['median_house_value'].quantile(0.75)\n",
    "print(Q3)\n",
    "\n",
    "# Interqualtile range\n",
    "IQR = Q3 - Q1\n",
    "\n",
    "# Define the bounds for the outliers\n",
    "lower_bound = Q1 - 1.5 * IQR\n",
    "upper_bound = Q3 + 1.5 * IQR\n",
    "\n",
    "# Remove outliers\n",
    "data_no_outliers_1 = data_cleaned[(data_cleaned['median_house_value'] >= lower_bound) & (data_cleaned['median_house_value'] <= upper_bound)]\n",
    "\n",
    "# Check the shape of the data before and after removal of outliers\n",
    "print(\"Original data shape:\", data_cleaned.shape)\n",
    "print(\"New data shape without outliers:\", data_no_outliers_1.shape)"
   ]
  },
  {
   "cell_type": "markdown",
   "id": "15e6d283-354d-4b2b-b6ca-f7cb3e8b6f19",
   "metadata": {},
   "source": [
    "- ##### Using BoxPlot for Outlier Detection"
   ]
  },
  {
   "cell_type": "code",
   "execution_count": 31,
   "id": "86007dc0-92c1-4bfd-89ce-537c99fedab7",
   "metadata": {},
   "outputs": [
    {
     "data": {
      "image/png": "[encoded data removed]",
      "text/plain": [
       "<Figure size 1000x600 with 1 Axes>"
      ]
     },
     "metadata": {},
     "output_type": "display_data"
    }
   ],
   "source": [
    "# Outliers in Mdedian Income\n",
    "plt.figure(figsize = (10, 6))\n",
    "sns.boxplot(x=data_no_outliers_1['median_income'], color='purple')\n",
    "plt.title('Outliers Analysis in Median Income')\n",
    "plt.xlabel('Median Income')\n",
    "\n",
    "plt.show()"
   ]
  },
  {
   "cell_type": "code",
   "execution_count": 32,
   "id": "ce0989a1-0018-4b4a-bcc8-79e0b7ac2ad1",
   "metadata": {},
   "outputs": [
    {
     "name": "stdout",
     "output_type": "stream",
     "text": [
      "Original data shape: (19369, 10)\n",
      "Data shape without outliers: (19026, 10)\n"
     ]
    }
   ],
   "source": [
    "# Calculate Q1 and Q3\n",
    "Q1 = data_no_outliers_1['median_income'].quantile(0.25)\n",
    "Q3 = data_no_outliers_1['median_income'].quantile(0.75)\n",
    "IQR = Q3 - Q1\n",
    "\n",
    "# Define the bounds for the outliers\n",
    "lower_bound = Q1 - 1.5 * IQR\n",
    "upper_bound = Q3 + 1.5 * IQR\n",
    "\n",
    "# Remove outliers\n",
    "data_no_outliers_2 = data_no_outliers_1[(data_no_outliers_1['median_income'] >= lower_bound) & (data_no_outliers_1['median_income'] <= upper_bound)]\n",
    "\n",
    "# Check the shape of the data before and after removal of outliers\n",
    "print(\"Original data shape:\", data_no_outliers_1.shape)\n",
    "print(\"Data shape without outliers:\", data_no_outliers_2.shape)"
   ]
  },
  {
   "cell_type": "code",
   "execution_count": 33,
   "id": "78b7ecc8-7246-443d-bae9-4dc19312d1d6",
   "metadata": {},
   "outputs": [],
   "source": [
    "# Representing our DataFrame with a new name, 'data'\n",
    "\n",
    "data = data_no_outliers_2"
   ]
  },
  {
   "cell_type": "markdown",
   "id": "db9aeb68-5429-4f83-9bf7-b600690083bb",
   "metadata": {},
   "source": [
    "- ##### Correlation Heatmap"
   ]
  },
  {
   "cell_type": "code",
   "execution_count": 35,
   "id": "e5a80d17-ea91-4313-a416-04cce77f8d9b",
   "metadata": {},
   "outputs": [
    {
     "data": {
      "image/png": "[encoded data removed]",
      "text/plain": [
       "<Figure size 1200x800 with 2 Axes>"
      ]
     },
     "metadata": {},
     "output_type": "display_data"
    }
   ],
   "source": [
    "# #  correlation between the target feature and all the features in the dataset\n",
    "numeric_data = data.select_dtypes(include=\"number\") # Select numeric features only\n",
    "corr_matrix = numeric_data.corr()\n",
    "\n",
    "plt.figure(figsize=(12, 8))\n",
    "sns.heatmap(corr_matrix, annot=True, cmap='Greens')\n",
    "plt.title('Correlation Heatmap of Housing Data')\n",
    "\n",
    "plt.show()"
   ]
  },
  {
   "cell_type": "markdown",
   "id": "558e3a8c-dc2e-4087-961d-166c6ed0e36f",
   "metadata": {},
   "source": [
    "total_bedrooms have a strong positive relationship with some independent variables, to avoid multi-collinearity, we will drop it"
   ]
  },
  {
   "cell_type": "code",
   "execution_count": 37,
   "id": "7f62a4ec-632e-43cd-b01f-d496155eed0d",
   "metadata": {},
   "outputs": [
    {
     "data": {
      "text/plain": [
       "Index(['longitude', 'latitude', 'housing_median_age', 'total_rooms',\n",
       "       'population', 'households', 'median_income', 'median_house_value',\n",
       "       'ocean_proximity'],\n",
       "      dtype='object')"
      ]
     },
     "execution_count": 37,
     "metadata": {},
     "output_type": "execute_result"
    }
   ],
   "source": [
    "data = data.drop(\"total_bedrooms\", axis=1)\n",
    "data.columns"
   ]
  },
  {
   "cell_type": "code",
   "execution_count": 38,
   "id": "28a99a88-3c98-454a-b33e-7d6f26453068",
   "metadata": {},
   "outputs": [
    {
     "name": "stdout",
     "output_type": "stream",
     "text": [
      "Unique values in ocean_proximity: ['NEAR BAY' '<1H OCEAN' 'INLAND' 'NEAR OCEAN' 'ISLAND']\n"
     ]
    }
   ],
   "source": [
    "# Unique Value count for categorical data\n",
    "for column in ['ocean_proximity']: # Add other categorical columns if any\n",
    "    print(f\"Unique values in {column}:\", data[column].unique())"
   ]
  },
  {
   "cell_type": "markdown",
   "id": "80239c50-ddc3-43b2-a00d-4637ba63842a",
   "metadata": {},
   "source": [
    "##### String Data Categorization to Dummy Variables"
   ]
  },
  {
   "cell_type": "code",
   "execution_count": 40,
   "id": "eb7f1225-4f9f-41f0-ac31-4ed0f5211745",
   "metadata": {},
   "outputs": [
    {
     "data": {
      "text/html": [
       "<div>\n",
       "<style scoped>\n",
       "    .dataframe tbody tr th:only-of-type {\n",
       "        vertical-align: middle;\n",
       "    }\n",
       "\n",
       "    .dataframe tbody tr th {\n",
       "        vertical-align: top;\n",
       "    }\n",
       "\n",
       "    .dataframe thead th {\n",
       "        text-align: right;\n",
       "    }\n",
       "</style>\n",
       "<table border=\"1\" class=\"dataframe\">\n",
       "  <thead>\n",
       "    <tr style=\"text-align: right;\">\n",
       "      <th></th>\n",
       "      <th>ocean_proximity_&lt;1H OCEAN</th>\n",
       "      <th>ocean_proximity_INLAND</th>\n",
       "      <th>ocean_proximity_ISLAND</th>\n",
       "      <th>ocean_proximity_NEAR BAY</th>\n",
       "      <th>ocean_proximity_NEAR OCEAN</th>\n",
       "    </tr>\n",
       "  </thead>\n",
       "  <tbody>\n",
       "    <tr>\n",
       "      <th>2</th>\n",
       "      <td>0</td>\n",
       "      <td>0</td>\n",
       "      <td>0</td>\n",
       "      <td>1</td>\n",
       "      <td>0</td>\n",
       "    </tr>\n",
       "    <tr>\n",
       "      <th>3</th>\n",
       "      <td>0</td>\n",
       "      <td>0</td>\n",
       "      <td>0</td>\n",
       "      <td>1</td>\n",
       "      <td>0</td>\n",
       "    </tr>\n",
       "    <tr>\n",
       "      <th>4</th>\n",
       "      <td>0</td>\n",
       "      <td>0</td>\n",
       "      <td>0</td>\n",
       "      <td>1</td>\n",
       "      <td>0</td>\n",
       "    </tr>\n",
       "    <tr>\n",
       "      <th>5</th>\n",
       "      <td>0</td>\n",
       "      <td>0</td>\n",
       "      <td>0</td>\n",
       "      <td>1</td>\n",
       "      <td>0</td>\n",
       "    </tr>\n",
       "    <tr>\n",
       "      <th>6</th>\n",
       "      <td>0</td>\n",
       "      <td>0</td>\n",
       "      <td>0</td>\n",
       "      <td>1</td>\n",
       "      <td>0</td>\n",
       "    </tr>\n",
       "    <tr>\n",
       "      <th>...</th>\n",
       "      <td>...</td>\n",
       "      <td>...</td>\n",
       "      <td>...</td>\n",
       "      <td>...</td>\n",
       "      <td>...</td>\n",
       "    </tr>\n",
       "    <tr>\n",
       "      <th>20635</th>\n",
       "      <td>0</td>\n",
       "      <td>1</td>\n",
       "      <td>0</td>\n",
       "      <td>0</td>\n",
       "      <td>0</td>\n",
       "    </tr>\n",
       "    <tr>\n",
       "      <th>20636</th>\n",
       "      <td>0</td>\n",
       "      <td>1</td>\n",
       "      <td>0</td>\n",
       "      <td>0</td>\n",
       "      <td>0</td>\n",
       "    </tr>\n",
       "    <tr>\n",
       "      <th>20637</th>\n",
       "      <td>0</td>\n",
       "      <td>1</td>\n",
       "      <td>0</td>\n",
       "      <td>0</td>\n",
       "      <td>0</td>\n",
       "    </tr>\n",
       "    <tr>\n",
       "      <th>20638</th>\n",
       "      <td>0</td>\n",
       "      <td>1</td>\n",
       "      <td>0</td>\n",
       "      <td>0</td>\n",
       "      <td>0</td>\n",
       "    </tr>\n",
       "    <tr>\n",
       "      <th>20639</th>\n",
       "      <td>0</td>\n",
       "      <td>1</td>\n",
       "      <td>0</td>\n",
       "      <td>0</td>\n",
       "      <td>0</td>\n",
       "    </tr>\n",
       "  </tbody>\n",
       "</table>\n",
       "<p>19026 rows × 5 columns</p>\n",
       "</div>"
      ],
      "text/plain": [
       "       ocean_proximity_<1H OCEAN  ocean_proximity_INLAND  \\\n",
       "2                              0                       0   \n",
       "3                              0                       0   \n",
       "4                              0                       0   \n",
       "5                              0                       0   \n",
       "6                              0                       0   \n",
       "...                          ...                     ...   \n",
       "20635                          0                       1   \n",
       "20636                          0                       1   \n",
       "20637                          0                       1   \n",
       "20638                          0                       1   \n",
       "20639                          0                       1   \n",
       "\n",
       "       ocean_proximity_ISLAND  ocean_proximity_NEAR BAY  \\\n",
       "2                           0                         1   \n",
       "3                           0                         1   \n",
       "4                           0                         1   \n",
       "5                           0                         1   \n",
       "6                           0                         1   \n",
       "...                       ...                       ...   \n",
       "20635                       0                         0   \n",
       "20636                       0                         0   \n",
       "20637                       0                         0   \n",
       "20638                       0                         0   \n",
       "20639                       0                         0   \n",
       "\n",
       "       ocean_proximity_NEAR OCEAN  \n",
       "2                               0  \n",
       "3                               0  \n",
       "4                               0  \n",
       "5                               0  \n",
       "6                               0  \n",
       "...                           ...  \n",
       "20635                           0  \n",
       "20636                           0  \n",
       "20637                           0  \n",
       "20638                           0  \n",
       "20639                           0  \n",
       "\n",
       "[19026 rows x 5 columns]"
      ]
     },
     "execution_count": 40,
     "metadata": {},
     "output_type": "execute_result"
    }
   ],
   "source": [
    "# Encoding with pd.get_dummies\n",
    "ocean_proximity_dummies = pd.get_dummies(data['ocean_proximity'], prefix='ocean_proximity')\n",
    "\n",
    "# Convert the dummy variables to integers (0 and 1)\n",
    "ocean_proximity_dummies = ocean_proximity_dummies.astype(int)\n",
    "\n",
    "# Concatenate the encoded variables back to the original DataFrame\n",
    "data = pd.concat([data.drop(\"ocean_proximity\", axis=1), ocean_proximity_dummies], axis=1)\n",
    "\n",
    "# Display the result\n",
    "ocean_proximity_dummies"
   ]
  },
  {
   "cell_type": "code",
   "execution_count": 41,
   "id": "8e90e6ac-a5d2-46a3-8bae-94f04460af2b",
   "metadata": {},
   "outputs": [
    {
     "data": {
      "text/plain": [
       "Index(['longitude', 'latitude', 'housing_median_age', 'total_rooms',\n",
       "       'population', 'households', 'median_income', 'median_house_value',\n",
       "       'ocean_proximity_<1H OCEAN', 'ocean_proximity_INLAND',\n",
       "       'ocean_proximity_ISLAND', 'ocean_proximity_NEAR BAY',\n",
       "       'ocean_proximity_NEAR OCEAN'],\n",
       "      dtype='object')"
      ]
     },
     "execution_count": 41,
     "metadata": {},
     "output_type": "execute_result"
    }
   ],
   "source": [
    "data.columns"
   ]
  },
  {
   "cell_type": "code",
   "execution_count": 42,
   "id": "f59d3a9a-7228-4458-a72c-ee5481ab1445",
   "metadata": {},
   "outputs": [
    {
     "data": {
      "text/plain": [
       "Index(['longitude', 'latitude', 'housing_median_age', 'total_rooms',\n",
       "       'population', 'households', 'median_income', 'median_house_value',\n",
       "       'ocean_proximity_<1H OCEAN', 'ocean_proximity_INLAND',\n",
       "       'ocean_proximity_NEAR BAY', 'ocean_proximity_NEAR OCEAN'],\n",
       "      dtype='object')"
      ]
     },
     "execution_count": 42,
     "metadata": {},
     "output_type": "execute_result"
    }
   ],
   "source": [
    "data = data.drop(\"ocean_proximity_ISLAND\", axis = 1)\n",
    "data.columns"
   ]
  },
  {
   "cell_type": "code",
   "execution_count": 43,
   "id": "f77386d9-8fde-4f70-8510-8e73ca24bf25",
   "metadata": {},
   "outputs": [
    {
     "data": {
      "text/html": [
       "<div>\n",
       "<style scoped>\n",
       "    .dataframe tbody tr th:only-of-type {\n",
       "        vertical-align: middle;\n",
       "    }\n",
       "\n",
       "    .dataframe tbody tr th {\n",
       "        vertical-align: top;\n",
       "    }\n",
       "\n",
       "    .dataframe thead th {\n",
       "        text-align: right;\n",
       "    }\n",
       "</style>\n",
       "<table border=\"1\" class=\"dataframe\">\n",
       "  <thead>\n",
       "    <tr style=\"text-align: right;\">\n",
       "      <th></th>\n",
       "      <th>longitude</th>\n",
       "      <th>latitude</th>\n",
       "      <th>housing_median_age</th>\n",
       "      <th>total_rooms</th>\n",
       "      <th>population</th>\n",
       "      <th>households</th>\n",
       "      <th>median_income</th>\n",
       "      <th>median_house_value</th>\n",
       "      <th>ocean_proximity_&lt;1H OCEAN</th>\n",
       "      <th>ocean_proximity_INLAND</th>\n",
       "      <th>ocean_proximity_NEAR BAY</th>\n",
       "      <th>ocean_proximity_NEAR OCEAN</th>\n",
       "    </tr>\n",
       "  </thead>\n",
       "  <tbody>\n",
       "    <tr>\n",
       "      <th>2</th>\n",
       "      <td>-122.24</td>\n",
       "      <td>37.85</td>\n",
       "      <td>52.0</td>\n",
       "      <td>1467.0</td>\n",
       "      <td>496.0</td>\n",
       "      <td>177.0</td>\n",
       "      <td>7.2574</td>\n",
       "      <td>352100.0</td>\n",
       "      <td>0</td>\n",
       "      <td>0</td>\n",
       "      <td>1</td>\n",
       "      <td>0</td>\n",
       "    </tr>\n",
       "    <tr>\n",
       "      <th>3</th>\n",
       "      <td>-122.25</td>\n",
       "      <td>37.85</td>\n",
       "      <td>52.0</td>\n",
       "      <td>1274.0</td>\n",
       "      <td>558.0</td>\n",
       "      <td>219.0</td>\n",
       "      <td>5.6431</td>\n",
       "      <td>341300.0</td>\n",
       "      <td>0</td>\n",
       "      <td>0</td>\n",
       "      <td>1</td>\n",
       "      <td>0</td>\n",
       "    </tr>\n",
       "    <tr>\n",
       "      <th>4</th>\n",
       "      <td>-122.25</td>\n",
       "      <td>37.85</td>\n",
       "      <td>52.0</td>\n",
       "      <td>1627.0</td>\n",
       "      <td>565.0</td>\n",
       "      <td>259.0</td>\n",
       "      <td>3.8462</td>\n",
       "      <td>342200.0</td>\n",
       "      <td>0</td>\n",
       "      <td>0</td>\n",
       "      <td>1</td>\n",
       "      <td>0</td>\n",
       "    </tr>\n",
       "    <tr>\n",
       "      <th>5</th>\n",
       "      <td>-122.25</td>\n",
       "      <td>37.85</td>\n",
       "      <td>52.0</td>\n",
       "      <td>919.0</td>\n",
       "      <td>413.0</td>\n",
       "      <td>193.0</td>\n",
       "      <td>4.0368</td>\n",
       "      <td>269700.0</td>\n",
       "      <td>0</td>\n",
       "      <td>0</td>\n",
       "      <td>1</td>\n",
       "      <td>0</td>\n",
       "    </tr>\n",
       "    <tr>\n",
       "      <th>6</th>\n",
       "      <td>-122.25</td>\n",
       "      <td>37.84</td>\n",
       "      <td>52.0</td>\n",
       "      <td>2535.0</td>\n",
       "      <td>1094.0</td>\n",
       "      <td>514.0</td>\n",
       "      <td>3.6591</td>\n",
       "      <td>299200.0</td>\n",
       "      <td>0</td>\n",
       "      <td>0</td>\n",
       "      <td>1</td>\n",
       "      <td>0</td>\n",
       "    </tr>\n",
       "    <tr>\n",
       "      <th>7</th>\n",
       "      <td>-122.25</td>\n",
       "      <td>37.84</td>\n",
       "      <td>52.0</td>\n",
       "      <td>3104.0</td>\n",
       "      <td>1157.0</td>\n",
       "      <td>647.0</td>\n",
       "      <td>3.1200</td>\n",
       "      <td>241400.0</td>\n",
       "      <td>0</td>\n",
       "      <td>0</td>\n",
       "      <td>1</td>\n",
       "      <td>0</td>\n",
       "    </tr>\n",
       "    <tr>\n",
       "      <th>8</th>\n",
       "      <td>-122.26</td>\n",
       "      <td>37.84</td>\n",
       "      <td>42.0</td>\n",
       "      <td>2555.0</td>\n",
       "      <td>1206.0</td>\n",
       "      <td>595.0</td>\n",
       "      <td>2.0804</td>\n",
       "      <td>226700.0</td>\n",
       "      <td>0</td>\n",
       "      <td>0</td>\n",
       "      <td>1</td>\n",
       "      <td>0</td>\n",
       "    </tr>\n",
       "    <tr>\n",
       "      <th>9</th>\n",
       "      <td>-122.25</td>\n",
       "      <td>37.84</td>\n",
       "      <td>52.0</td>\n",
       "      <td>3549.0</td>\n",
       "      <td>1551.0</td>\n",
       "      <td>714.0</td>\n",
       "      <td>3.6912</td>\n",
       "      <td>261100.0</td>\n",
       "      <td>0</td>\n",
       "      <td>0</td>\n",
       "      <td>1</td>\n",
       "      <td>0</td>\n",
       "    </tr>\n",
       "    <tr>\n",
       "      <th>10</th>\n",
       "      <td>-122.26</td>\n",
       "      <td>37.85</td>\n",
       "      <td>52.0</td>\n",
       "      <td>2202.0</td>\n",
       "      <td>910.0</td>\n",
       "      <td>402.0</td>\n",
       "      <td>3.2031</td>\n",
       "      <td>281500.0</td>\n",
       "      <td>0</td>\n",
       "      <td>0</td>\n",
       "      <td>1</td>\n",
       "      <td>0</td>\n",
       "    </tr>\n",
       "    <tr>\n",
       "      <th>11</th>\n",
       "      <td>-122.26</td>\n",
       "      <td>37.85</td>\n",
       "      <td>52.0</td>\n",
       "      <td>3503.0</td>\n",
       "      <td>1504.0</td>\n",
       "      <td>734.0</td>\n",
       "      <td>3.2705</td>\n",
       "      <td>241800.0</td>\n",
       "      <td>0</td>\n",
       "      <td>0</td>\n",
       "      <td>1</td>\n",
       "      <td>0</td>\n",
       "    </tr>\n",
       "  </tbody>\n",
       "</table>\n",
       "</div>"
      ],
      "text/plain": [
       "    longitude  latitude  housing_median_age  total_rooms  population  \\\n",
       "2     -122.24     37.85                52.0       1467.0       496.0   \n",
       "3     -122.25     37.85                52.0       1274.0       558.0   \n",
       "4     -122.25     37.85                52.0       1627.0       565.0   \n",
       "5     -122.25     37.85                52.0        919.0       413.0   \n",
       "6     -122.25     37.84                52.0       2535.0      1094.0   \n",
       "7     -122.25     37.84                52.0       3104.0      1157.0   \n",
       "8     -122.26     37.84                42.0       2555.0      1206.0   \n",
       "9     -122.25     37.84                52.0       3549.0      1551.0   \n",
       "10    -122.26     37.85                52.0       2202.0       910.0   \n",
       "11    -122.26     37.85                52.0       3503.0      1504.0   \n",
       "\n",
       "    households  median_income  median_house_value  ocean_proximity_<1H OCEAN  \\\n",
       "2        177.0         7.2574            352100.0                          0   \n",
       "3        219.0         5.6431            341300.0                          0   \n",
       "4        259.0         3.8462            342200.0                          0   \n",
       "5        193.0         4.0368            269700.0                          0   \n",
       "6        514.0         3.6591            299200.0                          0   \n",
       "7        647.0         3.1200            241400.0                          0   \n",
       "8        595.0         2.0804            226700.0                          0   \n",
       "9        714.0         3.6912            261100.0                          0   \n",
       "10       402.0         3.2031            281500.0                          0   \n",
       "11       734.0         3.2705            241800.0                          0   \n",
       "\n",
       "    ocean_proximity_INLAND  ocean_proximity_NEAR BAY  \\\n",
       "2                        0                         1   \n",
       "3                        0                         1   \n",
       "4                        0                         1   \n",
       "5                        0                         1   \n",
       "6                        0                         1   \n",
       "7                        0                         1   \n",
       "8                        0                         1   \n",
       "9                        0                         1   \n",
       "10                       0                         1   \n",
       "11                       0                         1   \n",
       "\n",
       "    ocean_proximity_NEAR OCEAN  \n",
       "2                            0  \n",
       "3                            0  \n",
       "4                            0  \n",
       "5                            0  \n",
       "6                            0  \n",
       "7                            0  \n",
       "8                            0  \n",
       "9                            0  \n",
       "10                           0  \n",
       "11                           0  "
      ]
     },
     "execution_count": 43,
     "metadata": {},
     "output_type": "execute_result"
    }
   ],
   "source": [
    "data.head(10)"
   ]
  },
  {
   "cell_type": "markdown",
   "id": "615f951d-5e1d-4d1b-9e08-0b6617e988ff",
   "metadata": {},
   "source": [
    "#### Building Machine Learning Model\n",
    "- Linear Regression\n",
    "\n",
    "Linear Regression Assumptions:\r\n",
    "1.  Linearity: model is linear in parameters\r\n",
    "2. Random Sample: all observations in the sample are randomly selected\r\n",
    "3. Exogeneity: each independent variables is uncorrelated with the error terms\r\n",
    "4. Homoscedasticity: variance of all error terms is constant\r\n",
    "5. No Perfect Multi-Collinearity: there are no exact linear relationship between the independent variables\n"
   ]
  },
  {
   "cell_type": "code",
   "execution_count": 45,
   "id": "f8930c60-0a30-4100-b444-60c0135f59d0",
   "metadata": {},
   "outputs": [
    {
     "name": "stdout",
     "output_type": "stream",
     "text": [
      "Training set size: 15220 samples\n",
      "Test set size: 3806 samples\n"
     ]
    }
   ],
   "source": [
    "# Define your features (independent variabless) and target (dependent variable)\n",
    "features = ['longitude', 'latitude', 'housing_median_age', 'total_rooms','population', 'households', 'median_income',\n",
    "            'ocean_proximity_<1H OCEAN', 'ocean_proximity_INLAND','ocean_proximity_NEAR BAY', 'ocean_proximity_NEAR OCEAN']\n",
    "target = [\"median_house_value\"]\n",
    "\n",
    "X = data[features]\n",
    "y= data[target]\n",
    "\n",
    "# Split the data into training set and testing set\n",
    "# test_size specifies the proportion of the data to be included in the test split\n",
    "# random_state ensures reproducubility of your split\n",
    "X_train, X_test, y_train, y_test = train_test_split(X, y, test_size=0.2, random_state=1111)\n",
    "\n",
    "# Check the size of the splits\n",
    "print(f'Training set size: {X_train.shape[0]} samples')\n",
    "print(f'Test set size: {X_test.shape[0]} samples')"
   ]
  },
  {
   "cell_type": "markdown",
   "id": "789603dd-30f5-4d09-b42e-e6e0f605d4a0",
   "metadata": {},
   "source": [
    "#### Training"
   ]
  },
  {
   "cell_type": "code",
   "execution_count": 47,
   "id": "7e29f233-67e9-48d9-9cce-692ac99f18c2",
   "metadata": {},
   "outputs": [
    {
     "data": {
      "text/html": [
       "<div>\n",
       "<style scoped>\n",
       "    .dataframe tbody tr th:only-of-type {\n",
       "        vertical-align: middle;\n",
       "    }\n",
       "\n",
       "    .dataframe tbody tr th {\n",
       "        vertical-align: top;\n",
       "    }\n",
       "\n",
       "    .dataframe thead th {\n",
       "        text-align: right;\n",
       "    }\n",
       "</style>\n",
       "<table border=\"1\" class=\"dataframe\">\n",
       "  <thead>\n",
       "    <tr style=\"text-align: right;\">\n",
       "      <th></th>\n",
       "      <th>longitude</th>\n",
       "      <th>latitude</th>\n",
       "      <th>housing_median_age</th>\n",
       "      <th>total_rooms</th>\n",
       "      <th>population</th>\n",
       "      <th>households</th>\n",
       "      <th>median_income</th>\n",
       "      <th>ocean_proximity_&lt;1H OCEAN</th>\n",
       "      <th>ocean_proximity_INLAND</th>\n",
       "      <th>ocean_proximity_NEAR BAY</th>\n",
       "      <th>ocean_proximity_NEAR OCEAN</th>\n",
       "    </tr>\n",
       "  </thead>\n",
       "  <tbody>\n",
       "    <tr>\n",
       "      <th>15578</th>\n",
       "      <td>-116.90</td>\n",
       "      <td>33.03</td>\n",
       "      <td>11.0</td>\n",
       "      <td>3213.0</td>\n",
       "      <td>1975.0</td>\n",
       "      <td>579.0</td>\n",
       "      <td>3.4750</td>\n",
       "      <td>1</td>\n",
       "      <td>0</td>\n",
       "      <td>0</td>\n",
       "      <td>0</td>\n",
       "    </tr>\n",
       "    <tr>\n",
       "      <th>1656</th>\n",
       "      <td>-121.93</td>\n",
       "      <td>37.89</td>\n",
       "      <td>13.0</td>\n",
       "      <td>2085.0</td>\n",
       "      <td>852.0</td>\n",
       "      <td>264.0</td>\n",
       "      <td>7.3445</td>\n",
       "      <td>0</td>\n",
       "      <td>1</td>\n",
       "      <td>0</td>\n",
       "      <td>0</td>\n",
       "    </tr>\n",
       "    <tr>\n",
       "      <th>9190</th>\n",
       "      <td>-118.35</td>\n",
       "      <td>34.32</td>\n",
       "      <td>52.0</td>\n",
       "      <td>102.0</td>\n",
       "      <td>54.0</td>\n",
       "      <td>32.0</td>\n",
       "      <td>1.9875</td>\n",
       "      <td>1</td>\n",
       "      <td>0</td>\n",
       "      <td>0</td>\n",
       "      <td>0</td>\n",
       "    </tr>\n",
       "    <tr>\n",
       "      <th>11839</th>\n",
       "      <td>-120.95</td>\n",
       "      <td>39.93</td>\n",
       "      <td>26.0</td>\n",
       "      <td>2023.0</td>\n",
       "      <td>922.0</td>\n",
       "      <td>365.0</td>\n",
       "      <td>2.8125</td>\n",
       "      <td>0</td>\n",
       "      <td>1</td>\n",
       "      <td>0</td>\n",
       "      <td>0</td>\n",
       "    </tr>\n",
       "    <tr>\n",
       "      <th>12267</th>\n",
       "      <td>-116.91</td>\n",
       "      <td>33.75</td>\n",
       "      <td>13.0</td>\n",
       "      <td>10886.0</td>\n",
       "      <td>4266.0</td>\n",
       "      <td>1955.0</td>\n",
       "      <td>2.3169</td>\n",
       "      <td>0</td>\n",
       "      <td>1</td>\n",
       "      <td>0</td>\n",
       "      <td>0</td>\n",
       "    </tr>\n",
       "    <tr>\n",
       "      <th>...</th>\n",
       "      <td>...</td>\n",
       "      <td>...</td>\n",
       "      <td>...</td>\n",
       "      <td>...</td>\n",
       "      <td>...</td>\n",
       "      <td>...</td>\n",
       "      <td>...</td>\n",
       "      <td>...</td>\n",
       "      <td>...</td>\n",
       "      <td>...</td>\n",
       "      <td>...</td>\n",
       "    </tr>\n",
       "    <tr>\n",
       "      <th>15355</th>\n",
       "      <td>-117.32</td>\n",
       "      <td>33.25</td>\n",
       "      <td>7.0</td>\n",
       "      <td>8206.0</td>\n",
       "      <td>4399.0</td>\n",
       "      <td>1423.0</td>\n",
       "      <td>3.6301</td>\n",
       "      <td>1</td>\n",
       "      <td>0</td>\n",
       "      <td>0</td>\n",
       "      <td>0</td>\n",
       "    </tr>\n",
       "    <tr>\n",
       "      <th>9608</th>\n",
       "      <td>-120.51</td>\n",
       "      <td>37.29</td>\n",
       "      <td>20.0</td>\n",
       "      <td>4927.0</td>\n",
       "      <td>4205.0</td>\n",
       "      <td>1009.0</td>\n",
       "      <td>1.7679</td>\n",
       "      <td>0</td>\n",
       "      <td>1</td>\n",
       "      <td>0</td>\n",
       "      <td>0</td>\n",
       "    </tr>\n",
       "    <tr>\n",
       "      <th>12606</th>\n",
       "      <td>-121.49</td>\n",
       "      <td>38.50</td>\n",
       "      <td>32.0</td>\n",
       "      <td>2364.0</td>\n",
       "      <td>1331.0</td>\n",
       "      <td>449.0</td>\n",
       "      <td>3.3190</td>\n",
       "      <td>0</td>\n",
       "      <td>1</td>\n",
       "      <td>0</td>\n",
       "      <td>0</td>\n",
       "    </tr>\n",
       "    <tr>\n",
       "      <th>2907</th>\n",
       "      <td>-119.03</td>\n",
       "      <td>35.37</td>\n",
       "      <td>52.0</td>\n",
       "      <td>1503.0</td>\n",
       "      <td>554.0</td>\n",
       "      <td>277.0</td>\n",
       "      <td>1.6786</td>\n",
       "      <td>0</td>\n",
       "      <td>1</td>\n",
       "      <td>0</td>\n",
       "      <td>0</td>\n",
       "    </tr>\n",
       "    <tr>\n",
       "      <th>18139</th>\n",
       "      <td>-122.01</td>\n",
       "      <td>37.34</td>\n",
       "      <td>31.0</td>\n",
       "      <td>3080.0</td>\n",
       "      <td>1493.0</td>\n",
       "      <td>582.0</td>\n",
       "      <td>6.3052</td>\n",
       "      <td>1</td>\n",
       "      <td>0</td>\n",
       "      <td>0</td>\n",
       "      <td>0</td>\n",
       "    </tr>\n",
       "  </tbody>\n",
       "</table>\n",
       "<p>15220 rows × 11 columns</p>\n",
       "</div>"
      ],
      "text/plain": [
       "       longitude  latitude  housing_median_age  total_rooms  population  \\\n",
       "15578    -116.90     33.03                11.0       3213.0      1975.0   \n",
       "1656     -121.93     37.89                13.0       2085.0       852.0   \n",
       "9190     -118.35     34.32                52.0        102.0        54.0   \n",
       "11839    -120.95     39.93                26.0       2023.0       922.0   \n",
       "12267    -116.91     33.75                13.0      10886.0      4266.0   \n",
       "...          ...       ...                 ...          ...         ...   \n",
       "15355    -117.32     33.25                 7.0       8206.0      4399.0   \n",
       "9608     -120.51     37.29                20.0       4927.0      4205.0   \n",
       "12606    -121.49     38.50                32.0       2364.0      1331.0   \n",
       "2907     -119.03     35.37                52.0       1503.0       554.0   \n",
       "18139    -122.01     37.34                31.0       3080.0      1493.0   \n",
       "\n",
       "       households  median_income  ocean_proximity_<1H OCEAN  \\\n",
       "15578       579.0         3.4750                          1   \n",
       "1656        264.0         7.3445                          0   \n",
       "9190         32.0         1.9875                          1   \n",
       "11839       365.0         2.8125                          0   \n",
       "12267      1955.0         2.3169                          0   \n",
       "...           ...            ...                        ...   \n",
       "15355      1423.0         3.6301                          1   \n",
       "9608       1009.0         1.7679                          0   \n",
       "12606       449.0         3.3190                          0   \n",
       "2907        277.0         1.6786                          0   \n",
       "18139       582.0         6.3052                          1   \n",
       "\n",
       "       ocean_proximity_INLAND  ocean_proximity_NEAR BAY  \\\n",
       "15578                       0                         0   \n",
       "1656                        1                         0   \n",
       "9190                        0                         0   \n",
       "11839                       1                         0   \n",
       "12267                       1                         0   \n",
       "...                       ...                       ...   \n",
       "15355                       0                         0   \n",
       "9608                        1                         0   \n",
       "12606                       1                         0   \n",
       "2907                        1                         0   \n",
       "18139                       0                         0   \n",
       "\n",
       "       ocean_proximity_NEAR OCEAN  \n",
       "15578                           0  \n",
       "1656                            0  \n",
       "9190                            0  \n",
       "11839                           0  \n",
       "12267                           0  \n",
       "...                           ...  \n",
       "15355                           0  \n",
       "9608                            0  \n",
       "12606                           0  \n",
       "2907                            0  \n",
       "18139                           0  \n",
       "\n",
       "[15220 rows x 11 columns]"
      ]
     },
     "execution_count": 47,
     "metadata": {},
     "output_type": "execute_result"
    }
   ],
   "source": [
    "X_train"
   ]
  },
  {
   "cell_type": "code",
   "execution_count": 48,
   "id": "07531804-1fe1-4194-ac4a-2673f4a277e0",
   "metadata": {},
   "outputs": [
    {
     "data": {
      "text/html": [
       "<div>\n",
       "<style scoped>\n",
       "    .dataframe tbody tr th:only-of-type {\n",
       "        vertical-align: middle;\n",
       "    }\n",
       "\n",
       "    .dataframe tbody tr th {\n",
       "        vertical-align: top;\n",
       "    }\n",
       "\n",
       "    .dataframe thead th {\n",
       "        text-align: right;\n",
       "    }\n",
       "</style>\n",
       "<table border=\"1\" class=\"dataframe\">\n",
       "  <thead>\n",
       "    <tr style=\"text-align: right;\">\n",
       "      <th></th>\n",
       "      <th>const</th>\n",
       "      <th>longitude</th>\n",
       "      <th>latitude</th>\n",
       "      <th>housing_median_age</th>\n",
       "      <th>total_rooms</th>\n",
       "      <th>population</th>\n",
       "      <th>households</th>\n",
       "      <th>median_income</th>\n",
       "      <th>ocean_proximity_&lt;1H OCEAN</th>\n",
       "      <th>ocean_proximity_INLAND</th>\n",
       "      <th>ocean_proximity_NEAR BAY</th>\n",
       "      <th>ocean_proximity_NEAR OCEAN</th>\n",
       "    </tr>\n",
       "  </thead>\n",
       "  <tbody>\n",
       "    <tr>\n",
       "      <th>15578</th>\n",
       "      <td>1.0</td>\n",
       "      <td>-116.90</td>\n",
       "      <td>33.03</td>\n",
       "      <td>11.0</td>\n",
       "      <td>3213.0</td>\n",
       "      <td>1975.0</td>\n",
       "      <td>579.0</td>\n",
       "      <td>3.4750</td>\n",
       "      <td>1</td>\n",
       "      <td>0</td>\n",
       "      <td>0</td>\n",
       "      <td>0</td>\n",
       "    </tr>\n",
       "    <tr>\n",
       "      <th>1656</th>\n",
       "      <td>1.0</td>\n",
       "      <td>-121.93</td>\n",
       "      <td>37.89</td>\n",
       "      <td>13.0</td>\n",
       "      <td>2085.0</td>\n",
       "      <td>852.0</td>\n",
       "      <td>264.0</td>\n",
       "      <td>7.3445</td>\n",
       "      <td>0</td>\n",
       "      <td>1</td>\n",
       "      <td>0</td>\n",
       "      <td>0</td>\n",
       "    </tr>\n",
       "    <tr>\n",
       "      <th>9190</th>\n",
       "      <td>1.0</td>\n",
       "      <td>-118.35</td>\n",
       "      <td>34.32</td>\n",
       "      <td>52.0</td>\n",
       "      <td>102.0</td>\n",
       "      <td>54.0</td>\n",
       "      <td>32.0</td>\n",
       "      <td>1.9875</td>\n",
       "      <td>1</td>\n",
       "      <td>0</td>\n",
       "      <td>0</td>\n",
       "      <td>0</td>\n",
       "    </tr>\n",
       "    <tr>\n",
       "      <th>11839</th>\n",
       "      <td>1.0</td>\n",
       "      <td>-120.95</td>\n",
       "      <td>39.93</td>\n",
       "      <td>26.0</td>\n",
       "      <td>2023.0</td>\n",
       "      <td>922.0</td>\n",
       "      <td>365.0</td>\n",
       "      <td>2.8125</td>\n",
       "      <td>0</td>\n",
       "      <td>1</td>\n",
       "      <td>0</td>\n",
       "      <td>0</td>\n",
       "    </tr>\n",
       "    <tr>\n",
       "      <th>12267</th>\n",
       "      <td>1.0</td>\n",
       "      <td>-116.91</td>\n",
       "      <td>33.75</td>\n",
       "      <td>13.0</td>\n",
       "      <td>10886.0</td>\n",
       "      <td>4266.0</td>\n",
       "      <td>1955.0</td>\n",
       "      <td>2.3169</td>\n",
       "      <td>0</td>\n",
       "      <td>1</td>\n",
       "      <td>0</td>\n",
       "      <td>0</td>\n",
       "    </tr>\n",
       "    <tr>\n",
       "      <th>...</th>\n",
       "      <td>...</td>\n",
       "      <td>...</td>\n",
       "      <td>...</td>\n",
       "      <td>...</td>\n",
       "      <td>...</td>\n",
       "      <td>...</td>\n",
       "      <td>...</td>\n",
       "      <td>...</td>\n",
       "      <td>...</td>\n",
       "      <td>...</td>\n",
       "      <td>...</td>\n",
       "      <td>...</td>\n",
       "    </tr>\n",
       "    <tr>\n",
       "      <th>15355</th>\n",
       "      <td>1.0</td>\n",
       "      <td>-117.32</td>\n",
       "      <td>33.25</td>\n",
       "      <td>7.0</td>\n",
       "      <td>8206.0</td>\n",
       "      <td>4399.0</td>\n",
       "      <td>1423.0</td>\n",
       "      <td>3.6301</td>\n",
       "      <td>1</td>\n",
       "      <td>0</td>\n",
       "      <td>0</td>\n",
       "      <td>0</td>\n",
       "    </tr>\n",
       "    <tr>\n",
       "      <th>9608</th>\n",
       "      <td>1.0</td>\n",
       "      <td>-120.51</td>\n",
       "      <td>37.29</td>\n",
       "      <td>20.0</td>\n",
       "      <td>4927.0</td>\n",
       "      <td>4205.0</td>\n",
       "      <td>1009.0</td>\n",
       "      <td>1.7679</td>\n",
       "      <td>0</td>\n",
       "      <td>1</td>\n",
       "      <td>0</td>\n",
       "      <td>0</td>\n",
       "    </tr>\n",
       "    <tr>\n",
       "      <th>12606</th>\n",
       "      <td>1.0</td>\n",
       "      <td>-121.49</td>\n",
       "      <td>38.50</td>\n",
       "      <td>32.0</td>\n",
       "      <td>2364.0</td>\n",
       "      <td>1331.0</td>\n",
       "      <td>449.0</td>\n",
       "      <td>3.3190</td>\n",
       "      <td>0</td>\n",
       "      <td>1</td>\n",
       "      <td>0</td>\n",
       "      <td>0</td>\n",
       "    </tr>\n",
       "    <tr>\n",
       "      <th>2907</th>\n",
       "      <td>1.0</td>\n",
       "      <td>-119.03</td>\n",
       "      <td>35.37</td>\n",
       "      <td>52.0</td>\n",
       "      <td>1503.0</td>\n",
       "      <td>554.0</td>\n",
       "      <td>277.0</td>\n",
       "      <td>1.6786</td>\n",
       "      <td>0</td>\n",
       "      <td>1</td>\n",
       "      <td>0</td>\n",
       "      <td>0</td>\n",
       "    </tr>\n",
       "    <tr>\n",
       "      <th>18139</th>\n",
       "      <td>1.0</td>\n",
       "      <td>-122.01</td>\n",
       "      <td>37.34</td>\n",
       "      <td>31.0</td>\n",
       "      <td>3080.0</td>\n",
       "      <td>1493.0</td>\n",
       "      <td>582.0</td>\n",
       "      <td>6.3052</td>\n",
       "      <td>1</td>\n",
       "      <td>0</td>\n",
       "      <td>0</td>\n",
       "      <td>0</td>\n",
       "    </tr>\n",
       "  </tbody>\n",
       "</table>\n",
       "<p>15220 rows × 12 columns</p>\n",
       "</div>"
      ],
      "text/plain": [
       "       const  longitude  latitude  housing_median_age  total_rooms  \\\n",
       "15578    1.0    -116.90     33.03                11.0       3213.0   \n",
       "1656     1.0    -121.93     37.89                13.0       2085.0   \n",
       "9190     1.0    -118.35     34.32                52.0        102.0   \n",
       "11839    1.0    -120.95     39.93                26.0       2023.0   \n",
       "12267    1.0    -116.91     33.75                13.0      10886.0   \n",
       "...      ...        ...       ...                 ...          ...   \n",
       "15355    1.0    -117.32     33.25                 7.0       8206.0   \n",
       "9608     1.0    -120.51     37.29                20.0       4927.0   \n",
       "12606    1.0    -121.49     38.50                32.0       2364.0   \n",
       "2907     1.0    -119.03     35.37                52.0       1503.0   \n",
       "18139    1.0    -122.01     37.34                31.0       3080.0   \n",
       "\n",
       "       population  households  median_income  ocean_proximity_<1H OCEAN  \\\n",
       "15578      1975.0       579.0         3.4750                          1   \n",
       "1656        852.0       264.0         7.3445                          0   \n",
       "9190         54.0        32.0         1.9875                          1   \n",
       "11839       922.0       365.0         2.8125                          0   \n",
       "12267      4266.0      1955.0         2.3169                          0   \n",
       "...           ...         ...            ...                        ...   \n",
       "15355      4399.0      1423.0         3.6301                          1   \n",
       "9608       4205.0      1009.0         1.7679                          0   \n",
       "12606      1331.0       449.0         3.3190                          0   \n",
       "2907        554.0       277.0         1.6786                          0   \n",
       "18139      1493.0       582.0         6.3052                          1   \n",
       "\n",
       "       ocean_proximity_INLAND  ocean_proximity_NEAR BAY  \\\n",
       "15578                       0                         0   \n",
       "1656                        1                         0   \n",
       "9190                        0                         0   \n",
       "11839                       1                         0   \n",
       "12267                       1                         0   \n",
       "...                       ...                       ...   \n",
       "15355                       0                         0   \n",
       "9608                        1                         0   \n",
       "12606                       1                         0   \n",
       "2907                        1                         0   \n",
       "18139                       0                         0   \n",
       "\n",
       "       ocean_proximity_NEAR OCEAN  \n",
       "15578                           0  \n",
       "1656                            0  \n",
       "9190                            0  \n",
       "11839                           0  \n",
       "12267                           0  \n",
       "...                           ...  \n",
       "15355                           0  \n",
       "9608                            0  \n",
       "12606                           0  \n",
       "2907                            0  \n",
       "18139                           0  \n",
       "\n",
       "[15220 rows x 12 columns]"
      ]
     },
     "execution_count": 48,
     "metadata": {},
     "output_type": "execute_result"
    }
   ],
   "source": [
    "# Adding a constant to the predictors because statsmodels' OLS doesn't include it by default\n",
    "X_train_const = sm.add_constant(X_train)\n",
    "X_train_const"
   ]
  },
  {
   "cell_type": "code",
   "execution_count": 49,
   "id": "e759148e-ef30-4146-a000-563a13c11772",
   "metadata": {},
   "outputs": [
    {
     "name": "stdout",
     "output_type": "stream",
     "text": [
      "                            OLS Regression Results                            \n",
      "==============================================================================\n",
      "Dep. Variable:     median_house_value   R-squared:                       0.588\n",
      "Model:                            OLS   Adj. R-squared:                  0.588\n",
      "Method:                 Least Squares   F-statistic:                     1973.\n",
      "Date:                Wed, 28 Aug 2024   Prob (F-statistic):               0.00\n",
      "Time:                        12:05:59   Log-Likelihood:            -1.8879e+05\n",
      "No. Observations:               15220   AIC:                         3.776e+05\n",
      "Df Residuals:                   15208   BIC:                         3.777e+05\n",
      "Df Model:                          11                                         \n",
      "Covariance Type:            nonrobust                                         \n",
      "==============================================================================================\n",
      "                                 coef    std err          t      P>|t|      [0.025      0.975]\n",
      "----------------------------------------------------------------------------------------------\n",
      "const                      -1.747e+06   9.16e+04    -19.073      0.000   -1.93e+06   -1.57e+06\n",
      "longitude                  -2.268e+04    997.843    -22.728      0.000   -2.46e+04   -2.07e+04\n",
      "latitude                   -2.109e+04    981.562    -21.490      0.000    -2.3e+04   -1.92e+04\n",
      "housing_median_age           846.4636     44.561     18.996      0.000     759.118     933.809\n",
      "total_rooms                   -2.6698      0.716     -3.728      0.000      -4.073      -1.266\n",
      "population                   -33.1937      1.050    -31.620      0.000     -35.251     -31.136\n",
      "households                   124.3609      4.388     28.343      0.000     115.761     132.961\n",
      "median_income               3.562e+04    424.453     83.928      0.000    3.48e+04    3.65e+04\n",
      "ocean_proximity_<1H OCEAN    -1.7e+05   2.95e+04     -5.755      0.000   -2.28e+05   -1.12e+05\n",
      "ocean_proximity_INLAND     -2.108e+05   2.96e+04     -7.123      0.000   -2.69e+05   -1.53e+05\n",
      "ocean_proximity_NEAR BAY   -1.779e+05   2.96e+04     -6.015      0.000   -2.36e+05    -1.2e+05\n",
      "ocean_proximity_NEAR OCEAN -1.689e+05   2.95e+04     -5.716      0.000   -2.27e+05   -1.11e+05\n",
      "==============================================================================\n",
      "Omnibus:                     3434.427   Durbin-Watson:                   2.004\n",
      "Prob(Omnibus):                  0.000   Jarque-Bera (JB):            10645.381\n",
      "Skew:                           1.157   Prob(JB):                         0.00\n",
      "Kurtosis:                       6.381   Cond. No.                     7.61e+05\n",
      "==============================================================================\n",
      "\n",
      "Notes:\n",
      "[1] Standard Errors assume that the covariance matrix of the errors is correctly specified.\n",
      "[2] The condition number is large, 7.61e+05. This might indicate that there are\n",
      "strong multicollinearity or other numerical problems.\n"
     ]
    }
   ],
   "source": [
    "# Fit the OLS model\n",
    "model_fitted = sm.OLS(y_train, X_train_const).fit()\n",
    "\n",
    "# Printing Summary\n",
    "print(model_fitted.summary())"
   ]
  },
  {
   "cell_type": "markdown",
   "id": "e4c9f3fa-37c9-42b5-9d8d-39edf31d4ff9",
   "metadata": {},
   "source": [
    "### Analysis of the OLS Regression Results\n",
    "\n",
    "#### 1. **Model Overview:**\n",
    "   - **Dependent Variable:** `median_house_value` \n",
    "   - **Model Type:** Ordinary Least Squares (OLS)\n",
    "   - **R-squared:** 0.588\n",
    "   - **Adjusted R-squared:** 0.588\n",
    "\n",
    "The R-squared value of 0.588 suggests that approximately 58.8% of the variability in the median house value can be explained by the independent variables in the model. The Adjusted R-squared, which accounts for the number of predictors in the model, remains the same, indicating that the model is a good fit for the data without overfitting.\n",
    "\n",
    "#### 2. **Model Significance:**\n",
    "   - **F-statistic:** 1973\n",
    "   - **Prob (F-statistic):** 0.00\n",
    "\n",
    "The F-statistic tests the overall significance of the model. The very low p-value (0.00) indicates that the model is statistically significant, and the independent variables collectively have a significant effect on the dependent variable.\n",
    "\n",
    "#### 3. **Coefficients Interpretation:**\n",
    "   - **Intercept (const):** -1.747e+06\n",
    "\n",
    "   The intercept represents the expected mean value of `median_house_value` when all independent variables are zero. In this case, it is not meaningful as zero values for predictors like `median_income`, `housing_median_age`, etc., are unrealistic.\n",
    "\n",
    "   - **Independent Variables:**\n",
    "     - **longitude (-2.268e+04):** For each unit increase in longitude, the median house value is expected to decrease by approximately 22,680, holding other variables constant.\n",
    "\n",
    "     - **latitude (-2.109e+04):** For each unit increase in latitude, the median house value is expected to decrease by approximately 21,090, holding other variables constant.\n",
    "\n",
    "     - **housing_median_age (846.4636):** For each year increase in the median age of houses, the median house value is expected to increase by 846.46, holding other variables constant.\n",
    "\n",
    "     - **total_rooms (-2.6698):** Each additional room decreases the median house value by $2.67, holding other variables constant.\n",
    "     - **population (-33.1937):** For each additional person in the population, the median house value decreases by 33.19, holding other variables constant.\n",
    "\n",
    "     - **households (124.3609):** Each additional household increases the median house value by $124.36, holding other variables constant.\n",
    "     - **median_income (3.562e+04):** For each unit increase in median income, the median house value increases by approximately 35,620, holding other variables constant.\n",
    "\n",
    "     - **ocean_proximity_<1H OCEAN (-1.7e+05):** Being located within 1 hour of the ocean decreases the median house value by approximately 170,000 compared to the base category (possibly \"ISLAND\").\n",
    "\n",
    "     - **ocean_proximity_INLAND (-2.108e+05):** Being inland decreases the median house value by approximately 210,800 compared to the base category.\n",
    "     - **ocean_proximity_NEAR BAY (-1.779e+05):** Being near a bay decreases the median house value by approximately 177,900 compared to the base category.\n",
    "     - **ocean_proximity_NEAR OCEAN (-1.689e+05):** Being near the ocean decreases the median house value by approximately 168,900 compared to the base category.\n",
    "\n",
    "All the coefficients have p-values of 0.000, indicating that they are statistically significant at a 5% significance level.\n",
    "\n",
    "#### 4. **Model Diagnostics:**\n",
    "   - **Omnibus (3434.427), Prob(Omnibus): 0.000** - Suggests that the residuals are not normally distributed.\n",
    "   - **Durbin-Watson (2.004):** Indicates no significant autocorrelation in the residuals.\n",
    "   - **Jarque-Bera (JB) (10645.381), Prob(JB): 0.000** - Also indicates non-normality of the residuals.\n",
    "   - **Condition Number (7.61e+05):** A large condition number suggests potential multicollinearity issues among the independent variables.\n",
    "\n",
    "#### 5. **Key Takeaways:**\n",
    "   - The model is statistically significant and explains a reasonable proportion of the variance in the dependent variable.\n",
    "   - The coefficients provide insights into how each independent variable influences the median house value.\n",
    "   - Diagnostics suggest potential issues with multicollinearity and non-normality of residuals, which may need to be addressed.\n",
    "\n",
    "This analysis gives a comprehensive understanding of the output from the OLS regression model, helping to evaluate the model's reliability and the influence of each predictor."
   ]
  },
  {
   "cell_type": "markdown",
   "id": "ecaa4c85-3e10-4e11-9047-376198951738",
   "metadata": {},
   "source": [
    "#### Predicting/Testing"
   ]
  },
  {
   "cell_type": "code",
   "execution_count": 52,
   "id": "5ae06367-4fca-4eac-ac8b-9ad44514f07d",
   "metadata": {},
   "outputs": [
    {
     "data": {
      "text/plain": [
       "7322     153414.201880\n",
       "465      239312.044180\n",
       "12768     70054.781175\n",
       "2617     189568.171319\n",
       "13351    184267.795032\n",
       "             ...      \n",
       "11691    171568.742378\n",
       "1454     215893.783794\n",
       "7360     129935.765388\n",
       "19118    232846.312809\n",
       "13084    207120.213485\n",
       "Length: 3806, dtype: float64"
      ]
     },
     "execution_count": 52,
     "metadata": {},
     "output_type": "execute_result"
    }
   ],
   "source": [
    "# Adding a constant to the test predictors\n",
    "X_test_const = sm.add_constant(X_test)\n",
    "\n",
    "# Making predictions on the test set\n",
    "test_predictions = model_fitted.predict(X_test_const)\n",
    "test_predictions"
   ]
  },
  {
   "cell_type": "markdown",
   "id": "842a0986-23c3-4023-a8a1-acb709179a5c",
   "metadata": {},
   "source": [
    "#### Checking OLS Assumptions"
   ]
  },
  {
   "cell_type": "markdown",
   "id": "9eb3d721-2680-470a-bda5-ab236fbf888a",
   "metadata": {},
   "source": [
    "- ##### Assumption 1: Linearity\n",
    "  - The model is linear in parameters"
   ]
  },
  {
   "cell_type": "code",
   "execution_count": 55,
   "id": "07bc84c1-6052-406d-b7a3-ff9ee4dafb52",
   "metadata": {},
   "outputs": [
    {
     "data": {
      "image/png": "[encoded data removed]",
      "text/plain": [
       "<Figure size 640x480 with 1 Axes>"
      ]
     },
     "metadata": {},
     "output_type": "display_data"
    }
   ],
   "source": [
    "# Scatter plot for observed vs predicted values on test data\n",
    "plt.scatter(y_test, test_predictions, color = \"forestgreen\")\n",
    "plt.xlabel('Observed Values')\n",
    "plt.ylabel('Predicted Values')\n",
    "plt.title('Observed vs Predicted Values on Test Data')\n",
    "plt.plot(y_test, y_test, color='darkred') # Line for perfect prediction (true values)\n",
    "\n",
    "plt.show()"
   ]
  },
  {
   "cell_type": "markdown",
   "id": "d96a53ed-823b-4ca6-9578-7ba3af1751d9",
   "metadata": {},
   "source": [
    "**Positive Linear relationship**: The red line (which represent a perfect prediction line) and the distribution of the data points suggest there's a positive linear relationship between the observed and predicted values. This means that as the actual values increase, the predicted values also increase, which is a good sign for linearity"
   ]
  },
  {
   "cell_type": "markdown",
   "id": "58f3a623-f792-4fa4-b5e2-4140c634e383",
   "metadata": {},
   "source": [
    "- ##### Assumption 2: Random sample\n",
    "  - All observations in the sample are randomly selected\n"
   ]
  },
  {
   "cell_type": "code",
   "execution_count": 58,
   "id": "da063b46-1fed-4e10-8674-dffd8d83e48b",
   "metadata": {},
   "outputs": [
    {
     "name": "stdout",
     "output_type": "stream",
     "text": [
      "The mean of the residuals is -0.0\n"
     ]
    }
   ],
   "source": [
    "# Calculate the mean of the residuals\n",
    "mean_residuals = np.mean(model_fitted.resid)\n",
    "\n",
    "print(f\"The mean of the residuals is {np.round(mean_residuals,2)}\")\n"
   ]
  },
  {
   "cell_type": "markdown",
   "id": "e4d834ae-dbd4-418e-9b52-df0bd1364a5f",
   "metadata": {},
   "source": [
    "While we cannot directly observe the true errors in the model, we can work with the residuals, which are the difference between the observed values and predicted values from the model. If the model is well-fitted, the residuals should be randomly scattered around zero without any systematic patterns"
   ]
  },
  {
   "cell_type": "code",
   "execution_count": 60,
   "id": "2179f164-b4d1-42be-b72f-2e75499d1bce",
   "metadata": {},
   "outputs": [
    {
     "data": {
      "image/png": "[encoded data removed]",
      "text/plain": [
       "<Figure size 640x480 with 1 Axes>"
      ]
     },
     "metadata": {},
     "output_type": "display_data"
    }
   ],
   "source": [
    "# Plotting the residuals\n",
    "plt.scatter(model_fitted.fittedvalues, model_fitted.resid, color = \"forestgreen\")\n",
    "plt.axhline(y=0, color='red', linestyle='--')\n",
    "plt.ylabel('Fitted Values')\n",
    "plt.title('Residuals of Fitted values')\n",
    "\n",
    "plt.show()"
   ]
  },
  {
   "cell_type": "markdown",
   "id": "ec0bc48d-fb92-4195-9bcb-1e798e3dd12a",
   "metadata": {},
   "source": [
    "In this plot, we don't see any discernible patterns. The residuals are thus randomly distributed around the horizontal line at zero, with no clear shape or trend. If there's a pattern, or if the residuals show a systematic deviation from zero, it could suggest issues such as model misspecification, non-linearity, or omitted variable bias."
   ]
  },
  {
   "cell_type": "markdown",
   "id": "da811a74-dec1-4586-8439-bbfeb8468e86",
   "metadata": {},
   "source": [
    "- ##### Assumption 3: Exogeneity\n",
    "  - Each independent variables is uncorrelated with the error terms"
   ]
  },
  {
   "cell_type": "code",
   "execution_count": 63,
   "id": "7c17a427-ab84-484e-b2ee-0889f3d4e0c9",
   "metadata": {},
   "outputs": [
    {
     "name": "stdout",
     "output_type": "stream",
     "text": [
      "Correlation between residuals and longitude: -0.0\n",
      "Correlation between residuals and latitude: -0.0\n",
      "Correlation between residuals and housing_median_age: -0.0\n",
      "Correlation between residuals and total_rooms: 0.0\n",
      "Correlation between residuals and population: 0.0\n",
      "Correlation between residuals and households: 0.0\n",
      "Correlation between residuals and median_income: 0.0\n",
      "Correlation between residuals and ocean_proximity_<1H OCEAN: 0.0\n",
      "Correlation between residuals and ocean_proximity_INLAND: -0.0\n",
      "Correlation between residuals and ocean_proximity_NEAR BAY: -0.0\n",
      "Correlation between residuals and ocean_proximity_NEAR OCEAN: 0.0\n"
     ]
    }
   ],
   "source": [
    "# Calculate the residuals\n",
    "residuals = model_fitted.resid\n",
    "\n",
    "# Check for correlation between residuals and each predictor\n",
    "for column in X_train.columns:\n",
    "    corr_coefficient = np.corrcoef(X_train[column], residuals)[0, 1]\n",
    "    print(f'Correlation between residuals and {column}: {np.round(corr_coefficient, 2)}')"
   ]
  },
  {
   "cell_type": "markdown",
   "id": "a3f4d68f-1ef7-4909-933f-2e9bd82aff34",
   "metadata": {},
   "source": [
    "The second method of checking exogeneity is the Durbin-Wu-Hausman Test.\n",
    "\n",
    "**Durbin-Wu-Hausman Test:** For a more formal statistical test, use the Durbin-Wu-Hausman test. This involves comparing your model with one that includes an instrumental variable. This test checks whether the model's coefficients change significantly when the potentially endogenous variables are instrumented. This test is a more advanced, econometrical approach and requires the identification of suitable instruments, which is not always straightforward."
   ]
  },
  {
   "cell_type": "markdown",
   "id": "8fc2f560-274a-4547-bba0-82d65028d40b",
   "metadata": {},
   "source": [
    "- ##### Assumption 4: Homoscedasticity\n",
    "  - The  variance of all error terms is constant\n"
   ]
  },
  {
   "cell_type": "code",
   "execution_count": 66,
   "id": "3c4c4da1-b326-46c1-b1f7-1653169755e6",
   "metadata": {},
   "outputs": [
    {
     "data": {
      "image/png": "[encoded data removed]",
      "text/plain": [
       "<Figure size 640x480 with 1 Axes>"
      ]
     },
     "metadata": {},
     "output_type": "display_data"
    }
   ],
   "source": [
    "# Plotting the residuals\n",
    "plt.scatter(model_fitted.fittedvalues, model_fitted.resid, color=\"forestgreen\")\n",
    "plt.axhline(y=0, color='red', linestyle='--')\n",
    "plt.xlabel('Fitted Values')\n",
    "plt.ylabel('Residuals')\n",
    "plt.title('Residuals vs Fitted Values')\n",
    "\n",
    "plt.show()"
   ]
  },
  {
   "cell_type": "markdown",
   "id": "99197224-d3c4-4e4a-ac31-5b5de8af8318",
   "metadata": {},
   "source": [
    "The homoscedasticity assumption is violated. This means that our error terms do not have a variation that is constant across all the observations, and we have a high variation and different variation for different observations\n",
    "\n",
    "**Random Scatter**: If the plot shows a random scatter of residuals around the horizontal line at zero, it supports the homoscedasticity assumption.\n",
    "\n",
    "**Pattern or Shape**: If residuals display a pattern (such as a curve) or form a funnel shape where the spread increases with fitted values, this would suggest heteroscedasticity, meaning the residuals' variance changes with the independent variables' level."
   ]
  },
  {
   "cell_type": "markdown",
   "id": "dfd99901-d418-4b23-86a9-8dc90e039254",
   "metadata": {},
   "source": [
    "#### Train/Test/Evaluation with Sklearn"
   ]
  },
  {
   "cell_type": "code",
   "execution_count": 69,
   "id": "b7835548-f2a8-4435-837a-78af38ecd6b8",
   "metadata": {},
   "outputs": [
    {
     "name": "stdout",
     "output_type": "stream",
     "text": [
      "MSE on Test Set: 3529059611.573431\n",
      "RMSE on Test Set: 59405.888694416746\n"
     ]
    }
   ],
   "source": [
    "from sklearn.preprocessing import StandardScaler\n",
    "from sklearn.linear_model import LinearRegression\n",
    "from sklearn.metrics import mean_squared_error\n",
    "from math import sqrt\n",
    "\n",
    "# Initialize the StandardScaler\n",
    "scaler = StandardScaler()\n",
    "\n",
    "# Fit the scaler on the training data and transform it\n",
    "X_train_scaled = scaler.fit_transform(X_train)\n",
    "\n",
    "# Apply the same transformation to the test data\n",
    "X_test_scaled = scaler.transform(X_test)\n",
    "\n",
    "# Create and fit the model\n",
    "lr = LinearRegression()\n",
    "lr.fit(X_train_scaled, y_train)\n",
    "\n",
    "# Make predictions on the scaled test data\n",
    "y_pred = lr.predict(X_test_scaled)\n",
    "\n",
    "# Calculate MSE and RMSE\n",
    "mse = mean_squared_error(y_test, y_pred)\n",
    "rmse = sqrt(mse)\n",
    "\n",
    "# Output the performance metrics\n",
    "print(f'MSE on Test Set: {mse}')\n",
    "print(f'RMSE on Test Set: {rmse}')\n"
   ]
  },
  {
   "cell_type": "code",
   "execution_count": 70,
   "id": "3fb32660-ebe3-4e74-8393-7617e03e4cfd",
   "metadata": {},
   "outputs": [
    {
     "name": "stdout",
     "output_type": "stream",
     "text": [
      "[[153414.2018804 ]\n",
      " [239312.04418031]\n",
      " [ 70054.78117497]\n",
      " ...\n",
      " [129935.7653883 ]\n",
      " [232846.31280863]\n",
      " [207120.21348536]]\n"
     ]
    },
    {
     "data": {
      "text/html": [
       "<div>\n",
       "<style scoped>\n",
       "    .dataframe tbody tr th:only-of-type {\n",
       "        vertical-align: middle;\n",
       "    }\n",
       "\n",
       "    .dataframe tbody tr th {\n",
       "        vertical-align: top;\n",
       "    }\n",
       "\n",
       "    .dataframe thead th {\n",
       "        text-align: right;\n",
       "    }\n",
       "</style>\n",
       "<table border=\"1\" class=\"dataframe\">\n",
       "  <thead>\n",
       "    <tr style=\"text-align: right;\">\n",
       "      <th></th>\n",
       "      <th>median_house_value</th>\n",
       "    </tr>\n",
       "  </thead>\n",
       "  <tbody>\n",
       "    <tr>\n",
       "      <th>7322</th>\n",
       "      <td>164400.0</td>\n",
       "    </tr>\n",
       "    <tr>\n",
       "      <th>465</th>\n",
       "      <td>196400.0</td>\n",
       "    </tr>\n",
       "    <tr>\n",
       "      <th>12768</th>\n",
       "      <td>65200.0</td>\n",
       "    </tr>\n",
       "    <tr>\n",
       "      <th>2617</th>\n",
       "      <td>73600.0</td>\n",
       "    </tr>\n",
       "    <tr>\n",
       "      <th>13351</th>\n",
       "      <td>195100.0</td>\n",
       "    </tr>\n",
       "    <tr>\n",
       "      <th>...</th>\n",
       "      <td>...</td>\n",
       "    </tr>\n",
       "    <tr>\n",
       "      <th>11691</th>\n",
       "      <td>217000.0</td>\n",
       "    </tr>\n",
       "    <tr>\n",
       "      <th>1454</th>\n",
       "      <td>229200.0</td>\n",
       "    </tr>\n",
       "    <tr>\n",
       "      <th>7360</th>\n",
       "      <td>142000.0</td>\n",
       "    </tr>\n",
       "    <tr>\n",
       "      <th>19118</th>\n",
       "      <td>200600.0</td>\n",
       "    </tr>\n",
       "    <tr>\n",
       "      <th>13084</th>\n",
       "      <td>129500.0</td>\n",
       "    </tr>\n",
       "  </tbody>\n",
       "</table>\n",
       "<p>3806 rows × 1 columns</p>\n",
       "</div>"
      ],
      "text/plain": [
       "       median_house_value\n",
       "7322             164400.0\n",
       "465              196400.0\n",
       "12768             65200.0\n",
       "2617              73600.0\n",
       "13351            195100.0\n",
       "...                   ...\n",
       "11691            217000.0\n",
       "1454             229200.0\n",
       "7360             142000.0\n",
       "19118            200600.0\n",
       "13084            129500.0\n",
       "\n",
       "[3806 rows x 1 columns]"
      ]
     },
     "execution_count": 70,
     "metadata": {},
     "output_type": "execute_result"
    }
   ],
   "source": [
    "print(y_pred)\n",
    "y_test"
   ]
  },
  {
   "cell_type": "code",
   "execution_count": 71,
   "id": "30ce639f-a152-4b63-9ce8-26f2fa5655fd",
   "metadata": {},
   "outputs": [
    {
     "data": {
      "text/plain": [
       "['scaler.joblib']"
      ]
     },
     "execution_count": 71,
     "metadata": {},
     "output_type": "execute_result"
    }
   ],
   "source": [
    "# Save the model and scaler using joblib\n",
    "import joblib\n",
    "\n",
    "joblib.dump(lr, 'linear_regression_model.joblib')\n",
    "joblib.dump(scaler, 'scaler.joblib')"
   ]
  },
  {
   "cell_type": "markdown",
   "id": "7df99ad7-bb57-4c04-bab8-116f9a10ed19",
   "metadata": {},
   "source": [
    "####  Apply Lasso/Ridge Regression"
   ]
  },
  {
   "cell_type": "code",
   "execution_count": 73,
   "id": "9b82506a-7cde-43af-b073-9aa2af07c984",
   "metadata": {},
   "outputs": [
    {
     "name": "stdout",
     "output_type": "stream",
     "text": [
      "RMSE for Lasso Regression: 59434.10575088558\n",
      "RMSE for Ridge Regression: 59406.275955991754\n"
     ]
    }
   ],
   "source": [
    "from sklearn.linear_model import Lasso, Ridge\n",
    "\n",
    "# Lasso Regression\n",
    "lasso = Lasso(alpha=0.001)  # You can adjust alpha for regularization strength\n",
    "lasso.fit(X_train_scaled, y_train)\n",
    "y_pred_lasso = lasso.predict(X_test_scaled)\n",
    "\n",
    "# Calculate RMSE for Lasso\n",
    "mse_lasso = mean_squared_error(y_test, y_pred_lasso)\n",
    "rmse_lasso = sqrt(mse_lasso)\n",
    "print(f'RMSE for Lasso Regression: {rmse_lasso}')\n",
    "\n",
    "# Ridge Regression\n",
    "ridge = Ridge(alpha=0.1)  # You can adjust alpha for regularization strength\n",
    "ridge.fit(X_train_scaled, y_train)\n",
    "y_pred_ridge = ridge.predict(X_test_scaled)\n",
    "\n",
    "# Calculate RMSE for Ridge\n",
    "mse_ridge = mean_squared_error(y_test, y_pred_ridge)\n",
    "rmse_ridge = sqrt(mse_ridge)\n",
    "print(f'RMSE for Ridge Regression: {rmse_ridge}')\n"
   ]
  },
  {
   "cell_type": "markdown",
   "id": "a491926f-86ab-468e-99ef-d39e12015253",
   "metadata": {},
   "source": [
    "#### Lasso Regression with Cross-Validation"
   ]
  },
  {
   "cell_type": "code",
   "execution_count": 75,
   "id": "70dda429-b8b6-4fa3-8d22-ae1949a4253f",
   "metadata": {},
   "outputs": [
    {
     "name": "stdout",
     "output_type": "stream",
     "text": [
      "Cross-Validated RMSE for Lasso Regression: 59178.505751784505\n",
      "Test RMSE for Lasso Regression: 59434.10575088558\n"
     ]
    }
   ],
   "source": [
    "from sklearn.preprocessing import StandardScaler\n",
    "from sklearn.model_selection import train_test_split, cross_val_score\n",
    "\n",
    "# Lasso Regression with Cross-Validation\n",
    "lasso = Lasso(alpha=0.001)  # Adjust alpha as needed\n",
    "lasso_cv_scores = cross_val_score(lasso, X_train_scaled, y_train, cv=5, scoring='neg_mean_squared_error')\n",
    "\n",
    "# Calculate RMSE for Lasso using cross-validation\n",
    "lasso_rmse_cv = np.sqrt(-lasso_cv_scores.mean())\n",
    "print(f'Cross-Validated RMSE for Lasso Regression: {lasso_rmse_cv}')\n",
    "\n",
    "# Fit Lasso on the full training set for final evaluation\n",
    "lasso.fit(X_train_scaled, y_train)\n",
    "y_pred_lasso = lasso.predict(X_test_scaled)\n",
    "\n",
    "# Calculate RMSE for Lasso on the test set\n",
    "mse_lasso = mean_squared_error(y_test, y_pred_lasso)\n",
    "rmse_lasso = np.sqrt(mse_lasso)\n",
    "print(f'Test RMSE for Lasso Regression: {rmse_lasso}')"
   ]
  },
  {
   "cell_type": "markdown",
   "id": "7ebdb3ef-0f6c-4f02-9ec3-f2fb79121085",
   "metadata": {},
   "source": [
    "#### Ridge Regression with Cross-Validation"
   ]
  },
  {
   "cell_type": "code",
   "execution_count": 77,
   "id": "677733c5-ca56-4078-b7c9-3c9838380977",
   "metadata": {},
   "outputs": [
    {
     "name": "stdout",
     "output_type": "stream",
     "text": [
      "Cross-Validated RMSE for Ridge Regression: 59155.775259474234\n",
      "Test RMSE for Ridge Regression: 59406.275955991754\n"
     ]
    }
   ],
   "source": [
    "# Ridge Regression with Cross-Validation\n",
    "ridge = Ridge(alpha=0.1)  # Adjust alpha as needed\n",
    "ridge_cv_scores = cross_val_score(ridge, X_train_scaled, y_train, cv=5, scoring='neg_mean_squared_error')\n",
    "\n",
    "# Calculate RMSE for Ridge using cross-validation\n",
    "ridge_rmse_cv = np.sqrt(-ridge_cv_scores.mean())\n",
    "print(f'Cross-Validated RMSE for Ridge Regression: {ridge_rmse_cv}')\n",
    "\n",
    "# Fit Ridge on the full training set for final evaluation\n",
    "ridge.fit(X_train_scaled, y_train)\n",
    "y_pred_ridge = ridge.predict(X_test_scaled)\n",
    "\n",
    "# Calculate RMSE for Ridge on the test set\n",
    "mse_ridge = mean_squared_error(y_test, y_pred_ridge)\n",
    "rmse_ridge = np.sqrt(mse_ridge)\n",
    "print(f'Test RMSE for Ridge Regression: {rmse_ridge}')\n"
   ]
  },
  {
   "cell_type": "markdown",
   "id": "e77570b4-e8f9-4cdd-b787-baf03c5ad20b",
   "metadata": {},
   "source": [
    "#### Using Grid Search for Hyperparameter Tuning"
   ]
  },
  {
   "cell_type": "code",
   "execution_count": 79,
   "id": "4a92a36b-3346-4a23-b010-a2d6c6c5568f",
   "metadata": {},
   "outputs": [
    {
     "name": "stdout",
     "output_type": "stream",
     "text": [
      "Best alpha for Lasso: {'alpha': 0.001}\n",
      "Best cross-validated RMSE for Lasso: 59178.505751784505\n",
      "Best alpha for Ridge: {'alpha': 0.1}\n",
      "Best cross-validated RMSE for Ridge: 59155.775259474234\n"
     ]
    }
   ],
   "source": [
    "from sklearn.model_selection import GridSearchCV\n",
    "from sklearn.linear_model import Lasso, Ridge\n",
    "\n",
    "# Define the model\n",
    "lasso = Lasso()\n",
    "ridge = Ridge()\n",
    "\n",
    "# Define the parameter grid\n",
    "param_grid = {\n",
    "    'alpha': [0.001, 0.01, 0.1, 1, 10, 100]\n",
    "}\n",
    "\n",
    "# Lasso Grid Search\n",
    "lasso_grid = GridSearchCV(lasso, param_grid, cv=5, scoring='neg_mean_squared_error')\n",
    "lasso_grid.fit(X_train_scaled, y_train)\n",
    "\n",
    "print(f'Best alpha for Lasso: {lasso_grid.best_params_}')\n",
    "print(f'Best cross-validated RMSE for Lasso: {np.sqrt(-lasso_grid.best_score_)}')\n",
    "\n",
    "# Ridge Grid Search\n",
    "ridge_grid = GridSearchCV(ridge, param_grid, cv=5, scoring='neg_mean_squared_error')\n",
    "ridge_grid.fit(X_train_scaled, y_train)\n",
    "\n",
    "print(f'Best alpha for Ridge: {ridge_grid.best_params_}')\n",
    "print(f'Best cross-validated RMSE for Ridge: {np.sqrt(-ridge_grid.best_score_)}')\n"
   ]
  },
  {
   "cell_type": "markdown",
   "id": "c7445bd0-cc94-47f4-b9f8-bf17c9898f1d",
   "metadata": {},
   "source": [
    "- #### Assumption 5. No Perfect Multi-Collinearity:\n",
    "  - There are no exact linear relationship between the independent variable"
   ]
  },
  {
   "cell_type": "markdown",
   "id": "734fdc4c-25e5-4088-925e-6bfe64ed27df",
   "metadata": {},
   "source": [
    "- Check for Multicollinearity\n",
    "\n",
    "High multicollinearity among features can lead to unstable estimates. Use Variance Inflation Factor (VIF) to check for multicollinearity and consider removing highly correlated features."
   ]
  },
  {
   "cell_type": "code",
   "execution_count": 82,
   "id": "24e99b89-952b-40e8-820d-a60aeeef15bd",
   "metadata": {},
   "outputs": [
    {
     "name": "stdout",
     "output_type": "stream",
     "text": [
      "                       Feature         VIF\n",
      "0                    longitude   17.557422\n",
      "1                     latitude   19.602377\n",
      "2           housing_median_age    1.353532\n",
      "3                  total_rooms   10.162244\n",
      "4                   population    6.026501\n",
      "5                   households   12.126845\n",
      "6                median_income    1.579038\n",
      "7    ocean_proximity_<1H OCEAN  936.577999\n",
      "8       ocean_proximity_INLAND  854.603148\n",
      "9     ocean_proximity_NEAR BAY  364.847924\n",
      "10  ocean_proximity_NEAR OCEAN  410.725884\n"
     ]
    }
   ],
   "source": [
    "from statsmodels.stats.outliers_influence import variance_inflation_factor\n",
    "\n",
    "# Assuming X_train is your feature set\n",
    "X_train_with_const = sm.add_constant(X_train_scaled)  # Add constant for VIF calculation\n",
    "vif_data = pd.DataFrame()\n",
    "vif_data['Feature'] = X_train.columns\n",
    "vif_data['VIF'] = [variance_inflation_factor(X_train_with_const, i) for i in range(1, X_train_with_const.shape[1])]\n",
    "\n",
    "print(vif_data)\n"
   ]
  },
  {
   "cell_type": "markdown",
   "id": "412f000f-c71b-410d-a116-63c1d830d97d",
   "metadata": {},
   "source": [
    "#### Explanation of the Results:\n",
    "2. **Longitude and Latitude**:\n",
    "   - **VIF Values**: 17.56 and 19.60, respectively.\n",
    "   - These values suggest moderate multicollinearity. While they are not excessively high, they indicate some correlation with other features.\n",
    "\n",
    "3. **Housing Median Age**:\n",
    "   - **VIF Value**: 1.35\n",
    "   - This low value indicates that this feature is not highly correlated with others, making it a stable predictor.\n",
    "\n",
    "4. **Total Rooms**:\n",
    "   - **VIF Value**: 10.16\n",
    "   - This value indicates some level of multicollinearity, but it is not an immediate cause for concern.\n",
    "\n",
    "5. **Population and Households**:\n",
    "   - **VIF Values**: 6.03 and 12.13, respectively.\n",
    "   - Both values indicate a moderate level of multicollinearity.\n",
    "\n",
    "6. **Median Income**:\n",
    "   - **VIF Value**: 1.58\n",
    "   - This low value suggests that median income is a stable feature without significant multicollinearity issues.\n",
    "\n",
    "7. **Ocean Proximity Features**:\n",
    "   - **VIF Values**:\n",
    "     - ocean_proximity_1H_OCEAN: 936.58\n",
    "     - ocean_proximity_INLAND: 854.60\n",
    "     - ocean_proximity_NEAR_BAY: 364.85\n",
    "     - ocean_proximity_NEAR_OCEAN: 410.73\n",
    "   - These values are very high, indicating severe multicollinearity. The ocean proximity features are likely capturing similar information, which can distort the regression model's estimates.\n",
    "\n",
    "### General Guidelines for VIF:\n",
    "- **VIF < 5**: Generally considered acceptable.\n",
    "- **5 < VIF < 10**: Indicates moderate multicollinearity; may need further investigation.\n",
    "- **VIF > 10**: Indicates high multicollinearity; consider removing or combining features.\n",
    "\n",
    "### Recommendations:\n",
    "1. **Remove or Combine Features**: For features with high VIF values (especially ocean proximity), consider removing some or combining them to reduce multicollinearity.\n",
    "\n",
    "2. **Feature Selection**: We can use techniques like Lasso regression, which can help in feature selection by shrinking the coefficients of less important features to zero.\n",
    "\n",
    "3. **Model Re-evaluation**: After addressing multicollinearity, we can re-evaluate our model to see if performance improves.\n",
    "\n",
    "By addressing the multicollinearity indicated by the VIF values, we can enhance the reliability of your regression model's predictions."
   ]
  },
  {
   "cell_type": "code",
   "execution_count": null,
   "id": "2c6c9bdb-6681-44e4-829a-7940b4c1ada6",
   "metadata": {},
   "outputs": [],
   "source": []
  }
 ],
 "metadata": {
  "kernelspec": {
   "display_name": "Python 3 (ipykernel)",
   "language": "python",
   "name": "python3"
  },
  "language_info": {
   "codemirror_mode": {
    "name": "ipython",
    "version": 3
   },
   "file_extension": ".py",
   "mimetype": "text/x-python",
   "name": "python",
   "nbconvert_exporter": "python",
   "pygments_lexer": "ipython3",
   "version": "3.11.7"
  }
 },
 "nbformat": 4,
 "nbformat_minor": 5
}
